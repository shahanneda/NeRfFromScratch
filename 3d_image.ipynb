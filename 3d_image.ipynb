{
 "cells": [
  {
   "cell_type": "code",
   "execution_count": 2,
   "metadata": {
    "tags": []
   },
   "outputs": [],
   "source": [
    "import torch\n",
    "import pandas as pd\n",
    "import numpy as np\n",
    "import matplotlib.pyplot as plt\n",
    "from mpl_toolkits.mplot3d import Axes3D \n",
    "import torch.nn as nn\n",
    "from torch import tensor\n",
    "device = torch.device(\"cuda:0\" if torch.cuda.is_available() else \"cpu\")"
   ]
  },
  {
   "cell_type": "code",
   "execution_count": 3,
   "metadata": {
    "tags": []
   },
   "outputs": [
    {
     "name": "stdout",
     "output_type": "stream",
     "text": [
      "torch.Size([106, 100, 100, 3])\n",
      "torch.Size([106, 4, 4])\n"
     ]
    }
   ],
   "source": [
    "data = np.load('tiny_nerf_data.npz')\n",
    "images = torch.tensor(data['images'])\n",
    "poses = torch.tensor(data['poses'])\n",
    "focalLength = data['focal']\n",
    "\n",
    "poses[12]\n",
    "print(images.shape)\n",
    "print(poses.shape)\n",
    "\n",
    "width = images.shape[1]\n",
    "height = images.shape[2]\n",
    "# plt.imshow(images[10])\n",
    "# for i in range(0, 100):\n",
    "#     plt.imsave(f\"im2/image{i}.png\", images[i])\n",
    "# poses[1]"
   ]
  },
  {
   "cell_type": "code",
   "execution_count": 4,
   "metadata": {
    "tags": []
   },
   "outputs": [],
   "source": [
    "\n",
    "class NeRfModel(nn.Module):\n",
    "\tdef __init__(self, num_fourier_features, layer_size=300):\n",
    "\t\tsuper().__init__()\n",
    "\t\tself.layer1 = nn.Linear(3 + 6*num_fourier_features, layer_size)\n",
    "\t\tself.layer2 = nn.Linear(layer_size, layer_size)\n",
    "\t\tself.layer3 = nn.Linear(layer_size, layer_size)\n",
    "\t\tself.layer4 = nn.Linear(layer_size, layer_size)\n",
    "\t\tself.rgb_layer = nn.Linear(layer_size, 3)\n",
    "\t\tself.radiance_layer = nn.Linear(layer_size, 1)\n",
    "\n",
    "\tdef forward(self, x):\n",
    "\t\tx = nn.functional.relu(self.layer1(x))\n",
    "\t\tx = nn.functional.relu(self.layer2(x))\n",
    "\t\tx = nn.functional.relu(self.layer3(x))\n",
    "\t\tx = nn.functional.relu(self.layer4(x))\n",
    "\n",
    "\t\trgb = torch.sigmoid(self.rgb_layer(x))\n",
    "\t\tradiance = self.radiance_layer(x)\n",
    "\t\treturn torch.cat([rgb, radiance], dim=-1)\n",
    "\n",
    "\t# model = nn.Sequential(\n",
    "\t# \t# 3 for the initial x, y,z coordiante\n",
    "\t# \t# then for each fourier feature, one for sin(x), sin(y), sin(z), \n",
    "\t# \t# and similarily 3 for cos\n",
    "\t# \tnn.ReLU(),\n",
    "\t# \tnn.Linear(300, 300),\n",
    "\t# \tnn.ReLU(),\n",
    "\t# \tnn.Linear(300, 300),\n",
    "\t# \tnn.ReLU(),\n",
    "\t# \tnn.Linear(300, 300),\n",
    "\t# \tnn.ReLU(),\n",
    "\t# \t# 3 for r, g, b and last one for radiance\n",
    "\t# \tnn.Linear(300, 4),\n",
    "\t# \tnn.Sigmoid(),\n",
    "\t# )\n",
    "\n",
    "numberOfFor = 6\n",
    "model  = NeRfModel(numberOfFor).to(device)"
   ]
  },
  {
   "cell_type": "code",
   "execution_count": 5,
   "metadata": {
    "tags": []
   },
   "outputs": [],
   "source": [
    "# %matplotlib widget\n",
    "\n",
    "%matplotlib inline"
   ]
  },
  {
   "cell_type": "code",
   "execution_count": 6,
   "metadata": {
    "tags": []
   },
   "outputs": [
    {
     "name": "stderr",
     "output_type": "stream",
     "text": [
      "/opt/conda/lib/python3.10/site-packages/torch/functional.py:504: UserWarning: torch.meshgrid: in an upcoming release, it will be required to pass the indexing argument. (Triggered internally at ../aten/src/ATen/native/TensorShape.cpp:3483.)\n",
      "  return _VF.meshgrid(tensors, **kwargs)  # type: ignore[attr-defined]\n"
     ]
    },
    {
     "name": "stdout",
     "output_type": "stream",
     "text": [
      "torch.Size([100, 100, 3]) torch.Size([100, 100, 3])\n",
      "tensor([0.1192, 0.8673, 0.7020], device='cuda:0') tensor([-0.8323, -0.5092,  0.2190], device='cuda:0')\n"
     ]
    }
   ],
   "source": [
    "# returns a two tensors, one with shape [width, height, 3] \n",
    "# representing the direction of a ray going through each pixel and another [width, height, 3] \n",
    "# representing the starting position of that same ray (all of which are the same) since \n",
    "# all rays start out at the origin\n",
    "def getRays(width, height, focalLength, pose):\n",
    "    xCoords = tensor([x for x in torch.arange(width)])\n",
    "    yCoords = tensor([y for y in torch.arange(height)])\n",
    "    x, y = torch.meshgrid(xCoords, yCoords)\n",
    "    # print(x[55][49])\n",
    "    # print(y[55][49])\n",
    "\n",
    "    xShifted = (x - width*0.5)/focalLength # x coords in a [width, height] tensor\n",
    "    # xShifted = nn.functional.normalize(xShifted)\n",
    "\n",
    "    yShifted = (y - height*0.5)/focalLength # y coords in a [width, height] tensor\n",
    "    # yShifted = nn.functional.normalize(yShifted)\n",
    "\n",
    "    z = torch.ones_like(x)  # z coords in a [width, height] tensor\n",
    "\n",
    "    # match up each element of the 3 tensors (thats why using dim = 2)\n",
    "    directionVectors = torch.stack((xShifted, yShifted, z), dim=2).to(device)\n",
    "    rotationMatrix = pose[0:3, 0:3]\n",
    "    rotatedDirections = torch.matmul(directionVectors, rotationMatrix)\n",
    "\n",
    "    origin =  pose[:3, 2]\n",
    "\n",
    "    # all the rays have the same origin\n",
    "    originTensor =  torch.broadcast_to(origin, rotatedDirections.shape)\n",
    "    return rotatedDirections, originTensor\n",
    "\n",
    "\n",
    "\t# print(directionVectors.shape)\n",
    "\t# print(xShifted[5][0])\n",
    "\t# print(yShifted[5][99])\n",
    "\t# print(x[4][6])\n",
    "\t# print(y[4][6])\n",
    "dirs, pos = getRays(width, height, focalLength, poses[10].to(device))\n",
    "print(dirs.shape, pos.shape)\n",
    "print(dirs[0][0], pos[0][0])\n"
   ]
  },
  {
   "cell_type": "code",
   "execution_count": null,
   "metadata": {},
   "outputs": [],
   "source": []
  },
  {
   "cell_type": "code",
   "execution_count": 7,
   "metadata": {
    "tags": []
   },
   "outputs": [],
   "source": [
    "import matplotlib\n",
    "\n",
    "\n",
    "%matplotlib inline\n",
    "\n",
    "# matplotlib.use('WebAgg')\n",
    "\n",
    "\n",
    "numberOfSamples = 25\n",
    "far = 5\n",
    "distanceBetweenSamples = far / numberOfSamples\n",
    "\n",
    "def get_rays_with_samples(pose):\n",
    "\tdirs, pos = getRays(width, height, focalLength, pose)\n",
    "\n",
    "\t# dirs = (width, height, 3)\n",
    "\t# t = (numberOfSamples)\n",
    "\t# goal = (width, height, numberOfSamples, 3)\n",
    "\t# where goal[x][y][i] = dirs[x][y] * t[i]\n",
    "\tt = torch.linspace(0, far, numberOfSamples).reshape(1, 1, numberOfSamples, 1).to(device)\n",
    "\n",
    "\t# dirs has shape (width, height, 3) right now (a direction for every pixel)\n",
    "\t# We want to instead have a list of numberOfSamples for each pixel, so (width, height, numberOfSamples, 3)\n",
    "\tdirs = dirs.reshape(width, height, 1, 3)\n",
    "\tpos = pos.reshape(width, height, 1, 3)\n",
    "\tz = pos + t*dirs\n",
    "\tz = z.to(device)\n",
    "\treturn z\n",
    "\n",
    "# far = 2\n",
    "def visulize_3D_rays(poseNumber):\n",
    "    fig = plt.figure(figsize=(4,4))\n",
    "    ax = fig.add_subplot(projection='3d')\n",
    "    rays = get_rays_with_samples(poseNumber)\n",
    "    with torch.no_grad():\n",
    "        rays = rays.cpu()\n",
    "        for i in range(0, width, 10):\n",
    "            for j in range(0, height, 10):\n",
    "                step = 1\n",
    "                ray = rays[i][j][::step]\n",
    "                ax.scatter(ray[:, 0], ray[:,1], ray[:, 2])\n",
    "        ax.set_xlim3d([-far, far])\n",
    "        ax.set_ylim3d([-far, far])\n",
    "        ax.set_zlim3d([-far, far])\n",
    "        ax.set_autoscale_on(False)\n",
    "\n",
    "\t# plt.savefig(f\"img/{poseNumber}.png\")\n",
    "# for i in range(0, 100):\n",
    "\t# visulize_3D_rays(i)\n",
    "# visulize_3D_rays(0)\n",
    "# visulize_3D_rays(poses[5].to(device))\n",
    "# print(poses[20])\n",
    "# get_rays_with_samples(poses[0].to(device)).shape\n"
   ]
  },
  {
   "cell_type": "code",
   "execution_count": 8,
   "metadata": {
    "tags": []
   },
   "outputs": [],
   "source": [
    "import gc\n",
    "import math\n",
    "def get_model_at_each_sample_point(rays):\n",
    "    #rays is (width, height, numberOfSampels, 3), we want to turn the 3 into 15 by appling foruir feature vectors\n",
    "    # coord  = rays[0][0][0]\n",
    "    raysBackup = torch.clone(rays)\n",
    "    rays = rays.reshape(width, height, numberOfSamples, 1, 3, 1).expand(width, height, numberOfSamples, 2, 3, 1)\n",
    "    twos = torch.tensor(2).repeat(width, height, numberOfSamples, 2, 3, numberOfFor) # 2 since one for sin one for cos\n",
    "    # print(twos.shape)\n",
    "    twos[:, :, :, :, 0] = 1\n",
    "    twos = torch.cumprod(twos, dim=4).to(device)\n",
    "    # print(twos)\n",
    "    # Twos is a (3, numberOfFor+, 21) shaped where each row is [1, 2, 4, 8, ...]\n",
    "    encoding = rays*math.pi*twos\n",
    "    # print(encoding.shape)\n",
    "    encoding[:, :, :, 0] = torch.sin(encoding[:, :, :, 0])\n",
    "    encoding[:, :, :, 1] = torch.cos(encoding[:, :, :, 1])\n",
    "    encoding = torch.flatten(encoding, start_dim=3, end_dim=5)\n",
    "    # print(encoding.shape)\n",
    "\n",
    "    # add non fourer as well (rays backup is just the normal xyz coords)\n",
    "    encoding = torch.concat((raysBackup, encoding), dim=3)\n",
    "    # print(encoding.shape)\n",
    "    # print(encoding)\n",
    "\n",
    "    return model(encoding)\n",
    "    \n",
    "\n",
    "def get_image(pose):\n",
    "  # gc.collect()\n",
    "  # torch.cuda.empty_cache()\n",
    "  rays = get_rays_with_samples(pose)\n",
    "  return get_image_with_rays(rays)\n",
    "\n",
    "def get_image_with_rays(rays):\n",
    "  # current (width, height, numberOfSamples, 4)\n",
    "  out = get_model_at_each_sample_point(rays)\n",
    "  # model_out = (width, height, numberOfSamples, 4), where r is rgb + d\n",
    "  deltaI = tensor(distanceBetweenSamples)\n",
    "\n",
    "  # Goes from out = (width,height, numberOfSamples, 4) to C = (width, height, 3)\n",
    "\n",
    "  # The first two dimenstions are width and height\n",
    "  Ti = torch.cumprod(torch.exp(-out[:, : , :, 3]*deltaI), dim = 2)\n",
    "  Ti = Ti.reshape(width, height, numberOfSamples, 1)\n",
    "\n",
    "  aboservedAmounts = (1- torch.exp(-out[:, :, :, 3]*deltaI)).reshape((width, height, numberOfSamples, 1))\n",
    "  colorI = out[:, :, :, 0:3]\n",
    "\n",
    "  # Sum along the ray (the first two dimenensions are the width and height)\n",
    "  C = torch.sum(Ti*aboservedAmounts * colorI, dim = 2)\n",
    "  return C\n",
    "\n",
    "# get_image()\n",
    "def f():\n",
    "  with torch.no_grad():\n",
    "    get_image(poses[0].to(device))\n",
    "f()"
   ]
  },
  {
   "cell_type": "code",
   "execution_count": 9,
   "metadata": {
    "tags": []
   },
   "outputs": [
    {
     "data": {
      "image/png": "[encoded data removed]",
      "text/plain": [
       "<Figure size 640x480 with 1 Axes>"
      ]
     },
     "metadata": {},
     "output_type": "display_data"
    }
   ],
   "source": [
    "with torch.no_grad():\n",
    "        pose = poses[0].to(device)\n",
    "        im = get_image(pose).cpu()\n",
    "        plt.imshow(im)"
   ]
  },
  {
   "cell_type": "code",
   "execution_count": 43,
   "metadata": {
    "tags": []
   },
   "outputs": [
    {
     "name": "stderr",
     "output_type": "stream",
     "text": [
      "Epoch [476/10000], Loss: 0.0901965438388288:   5%|▍         | 476/10000 [08:08<2:42:44,  1.03s/it] \n"
     ]
    },
    {
     "ename": "KeyboardInterrupt",
     "evalue": "",
     "output_type": "error",
     "traceback": [
      "\u001b[0;31m---------------------------------------------------------------------------\u001b[0m",
      "\u001b[0;31mKeyboardInterrupt\u001b[0m                         Traceback (most recent call last)",
      "Cell \u001b[0;32mIn[43], line 41\u001b[0m\n\u001b[1;32m     38\u001b[0m       poseToRays[index] \u001b[39m=\u001b[39m get_rays_with_samples(pose)\n\u001b[1;32m     40\u001b[0m rays \u001b[39m=\u001b[39m poseToRays[index]\n\u001b[0;32m---> 41\u001b[0m pred_image \u001b[39m=\u001b[39m get_image_with_rays(rays)\n\u001b[1;32m     43\u001b[0m image \u001b[39m=\u001b[39m image\u001b[39m.\u001b[39mto(device)\n\u001b[1;32m     44\u001b[0m loss \u001b[39m+\u001b[39m\u001b[39m=\u001b[39m loss_fn(pred_image, image)\n",
      "Cell \u001b[0;32mIn[8], line 37\u001b[0m, in \u001b[0;36mget_image_with_rays\u001b[0;34m(rays)\u001b[0m\n\u001b[1;32m     35\u001b[0m \u001b[39mdef\u001b[39;00m \u001b[39mget_image_with_rays\u001b[39m(rays):\n\u001b[1;32m     36\u001b[0m   \u001b[39m# current (width, height, numberOfSamples, 4)\u001b[39;00m\n\u001b[0;32m---> 37\u001b[0m   out \u001b[39m=\u001b[39m get_model_at_each_sample_point(rays)\n\u001b[1;32m     38\u001b[0m   \u001b[39m# model_out = (width, height, numberOfSamples, 4), where r is rgb + d\u001b[39;00m\n\u001b[1;32m     39\u001b[0m   deltaI \u001b[39m=\u001b[39m tensor(distanceBetweenSamples)\n",
      "Cell \u001b[0;32mIn[8], line 11\u001b[0m, in \u001b[0;36mget_model_at_each_sample_point\u001b[0;34m(rays)\u001b[0m\n\u001b[1;32m      9\u001b[0m \u001b[39m# print(twos.shape)\u001b[39;00m\n\u001b[1;32m     10\u001b[0m twos[:, :, :, :, \u001b[39m0\u001b[39m] \u001b[39m=\u001b[39m \u001b[39m1\u001b[39m\n\u001b[0;32m---> 11\u001b[0m twos \u001b[39m=\u001b[39m torch\u001b[39m.\u001b[39;49mcumprod(twos, dim\u001b[39m=\u001b[39;49m\u001b[39m4\u001b[39;49m)\u001b[39m.\u001b[39;49mto(device)\n\u001b[1;32m     12\u001b[0m \u001b[39m# print(twos)\u001b[39;00m\n\u001b[1;32m     13\u001b[0m \u001b[39m# Twos is a (3, numberOfFor+, 21) shaped where each row is [1, 2, 4, 8, ...]\u001b[39;00m\n\u001b[1;32m     14\u001b[0m encoding \u001b[39m=\u001b[39m rays\u001b[39m*\u001b[39mmath\u001b[39m.\u001b[39mpi\u001b[39m*\u001b[39mtwos\n",
      "\u001b[0;31mKeyboardInterrupt\u001b[0m: "
     ]
    },
    {
     "data": {
      "image/png": "[encoded data removed]",
      "text/plain": [
       "<Figure size 640x480 with 1 Axes>"
      ]
     },
     "metadata": {},
     "output_type": "display_data"
    }
   ],
   "source": [
    "epochs = 10000\n",
    "from tqdm import tqdm\n",
    "from IPython.display import clear_output\n",
    "def loss_fn(output, target):\n",
    "\t\tloss = torch.mean((output - target)**2)\n",
    "\t\treturn loss\n",
    "\n",
    "optimizer = torch.optim.Adam(model.parameters(), lr=0.001)\n",
    "\n",
    "pbar = tqdm(range(epochs))\n",
    "# pbar = range(epochs)\n",
    "\n",
    "image_display = None\n",
    "\n",
    "fig = plt.figure()\n",
    "ax = fig.gca()\n",
    "i = 0\n",
    "loss = 0\n",
    "\n",
    "\n",
    "pose = poses[3]\n",
    "# image = images[3]\n",
    "# pose = pose.to(device)\n",
    "# rays = get_rays_with_samples(pose)\n",
    "\n",
    "torch.cuda.empty_cache()\n",
    "poseToRays = {}\n",
    "torch.cuda.empty_cache()\n",
    "\n",
    "for epoch in pbar: \n",
    "    epoch_loss = 0\n",
    "    torch.cuda.empty_cache()\n",
    "\n",
    "    for index, (pose, image) in enumerate(zip(poses[0:10], images[0:10])):\n",
    "        i += 1\n",
    "        if index not in poseToRays:\n",
    "              pose = pose.to(device)\n",
    "              poseToRays[index] = get_rays_with_samples(pose)\n",
    "\n",
    "        rays = poseToRays[index]\n",
    "        pred_image = get_image_with_rays(rays)\n",
    "\n",
    "        image = image.to(device)\n",
    "        loss += loss_fn(pred_image, image)\n",
    "        epoch_loss += loss.item()\n",
    "        \n",
    "        # Update the weights every 3 images\n",
    "        if(i % 3 == 0):\n",
    "            optimizer.zero_grad()\n",
    "            loss.backward()\n",
    "            optimizer.step()\n",
    "            # pbar.set_description( f\"{i}: Loss is {loss}\")\n",
    "            loss = 0\n",
    "\n",
    "        # if(i % 26 == 0):\n",
    "        if(False):\n",
    "            # print(\"displaying\")\n",
    "            with torch.no_grad():\n",
    "                clear_output()\n",
    "                plt.close()\n",
    "\n",
    "                f, axarr = plt.subplots(1,2)\n",
    "                axarr[0].imshow(pred_image.cpu())\n",
    "                axarr[1].imshow(image.cpu())\n",
    "                plt.show()\n",
    "\n",
    "    pbar.set_description(f\"Epoch [{epoch+1}/{epochs}], Loss: {epoch_loss}\")\n",
    "    if( i >= 2000):\n",
    "        i = 0\n",
    "        \n",
    "\n"
   ]
  },
  {
   "cell_type": "code",
   "execution_count": null,
   "metadata": {},
   "outputs": [],
   "source": [
    "# torch.save(model.state_dict(), \"./basic_model.pkl\")"
   ]
  },
  {
   "cell_type": "code",
   "execution_count": null,
   "metadata": {},
   "outputs": [
    {
     "name": "stdout",
     "output_type": "stream",
     "text": [
      "tensor(4.0305)\n"
     ]
    }
   ],
   "source": [
    "print(torch.max(poses[:, :, 3]))"
   ]
  },
  {
   "cell_type": "code",
   "execution_count": 52,
   "metadata": {
    "tags": []
   },
   "outputs": [
    {
     "name": "stderr",
     "output_type": "stream",
     "text": [
      "Clipping input data to the valid range for imshow with RGB data ([0..1] for floats or [0..255] for integers).\n"
     ]
    },
    {
     "data": {
      "image/png": "[encoded data removed]",
      "text/plain": [
       "<Figure size 640x480 with 1 Axes>"
      ]
     },
     "metadata": {},
     "output_type": "display_data"
    }
   ],
   "source": [
    "with torch.no_grad():\n",
    "\t# for i in range(0, 15):\n",
    "\timage  = get_image(poses[19].to(device))\n",
    "\tplt.imshow(image.cpu())\n",
    "\tplt.show()"
   ]
  },
  {
   "cell_type": "code",
   "execution_count": null,
   "metadata": {},
   "outputs": [],
   "source": []
  }
 ],
 "metadata": {
  "kernelspec": {
   "display_name": "Python 3 (ipykernel)",
   "language": "python",
   "name": "python3"
  },
  "language_info": {
   "codemirror_mode": {
    "name": "ipython",
    "version": 3
   },
   "file_extension": ".py",
   "mimetype": "text/x-python",
   "name": "python",
   "nbconvert_exporter": "python",
   "pygments_lexer": "ipython3",
   "version": "3.10.9"
  },
  "vscode": {
   "interpreter": {
    "hash": "e7370f93d1d0cde622a1f8e1c04877d8463912d04d973331ad4851f04de6915a"
   }
  }
 },
 "nbformat": 4,
 "nbformat_minor": 4
}
