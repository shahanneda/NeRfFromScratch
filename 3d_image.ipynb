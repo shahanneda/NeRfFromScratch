{
 "cells": [
  {
   "cell_type": "code",
   "execution_count": 1,
   "metadata": {},
   "outputs": [],
   "source": [
    "import torch\n",
    "import pandas as pd\n",
    "import numpy as np\n",
    "import matplotlib.pyplot as plt\n",
    "from mpl_toolkits.mplot3d import Axes3D \n",
    "import torch.nn as nn\n",
    "from torch import tensor\n",
    "device = torch.device(\"cuda:0\" if torch.cuda.is_available() else \"cpu\")"
   ]
  },
  {
   "cell_type": "code",
   "execution_count": 2,
   "metadata": {},
   "outputs": [
    {
     "name": "stdout",
     "output_type": "stream",
     "text": [
      "(106, 100, 100, 3)\n",
      "(106, 4, 4)\n"
     ]
    }
   ],
   "source": [
    "data = np.load('tiny_nerf_data.npz')\n",
    "images = data['images']\n",
    "poses = data['poses']\n",
    "focalLength = data['focal']\n",
    "\n",
    "poses[12]\n",
    "print(images.shape)\n",
    "print(poses.shape)\n",
    "\n",
    "width = images.shape[1]\n",
    "height = images.shape[2]\n",
    "# plt.imshow(images[10])\n",
    "# poses[1]"
   ]
  },
  {
   "cell_type": "code",
   "execution_count": 3,
   "metadata": {},
   "outputs": [],
   "source": [
    "numberOfFor = 0\n",
    "model = nn.Sequential(\n",
    "\t# 3 for the initial x, y,z coordiante\n",
    "\t# then for each fourier feature, one for sin(x), sin(y), sin(z), \n",
    "\t# and similarily 3 for cos\n",
    "\tnn.Linear(3 + 6*numberOfFor, 300),\n",
    "\tnn.ReLU(),\n",
    "\tnn.Linear(300, 300),\n",
    "\tnn.ReLU(),\n",
    "\tnn.Linear(300, 300),\n",
    "\tnn.ReLU(),\n",
    "\tnn.Linear(300, 300),\n",
    "\tnn.ReLU(),\n",
    "\t# 3 for r, g, b and last one for radiance\n",
    "\tnn.Linear(300, 4),\n",
    "\tnn.Sigmoid(),\n",
    ")\n",
    "model  = model.to(device)"
   ]
  },
  {
   "cell_type": "code",
   "execution_count": null,
   "metadata": {},
   "outputs": [],
   "source": [
    "# %matplotlib widget\n",
    "\n",
    "%matplotlib inline"
   ]
  },
  {
   "cell_type": "code",
   "execution_count": 4,
   "metadata": {},
   "outputs": [
    {
     "name": "stdout",
     "output_type": "stream",
     "text": [
      "torch.Size([100, 100, 3]) torch.Size([100, 100, 3])\n",
      "tensor([ 16.5580, -14.0819,  67.2944]) tensor([-0.8323, -0.5092,  0.2190])\n"
     ]
    },
    {
     "name": "stderr",
     "output_type": "stream",
     "text": [
      "/home/shahanneda/.local/lib/python3.11/site-packages/torch/functional.py:504: UserWarning: torch.meshgrid: in an upcoming release, it will be required to pass the indexing argument. (Triggered internally at ../aten/src/ATen/native/TensorShape.cpp:3483.)\n",
      "  return _VF.meshgrid(tensors, **kwargs)  # type: ignore[attr-defined]\n"
     ]
    }
   ],
   "source": [
    "# returns a two tensors, one with shape [width, height, 3] \n",
    "# representing the direction of a ray going through each pixel and another [width, height, 3] \n",
    "# representing the starting position of that same ray (all of which are the same) since \n",
    "# all rays start out at the origin\n",
    "def getRays(width, height, focalLength, pose):\n",
    "\txCoords = tensor([x for x in torch.arange(width)])\n",
    "\tyCoords = tensor([y for y in torch.arange(height)])\n",
    "\tx, y = torch.meshgrid(xCoords, yCoords)\n",
    "\n",
    "\txShifted = x - width*0.5 # x coords in a [width, height] tensor\n",
    "\tyShifted = y - height*0.5 # y coords in a [width, height] tensor\n",
    "\tz = torch.ones_like(x)  # z coords in a [width, height] tensor\n",
    "\n",
    "\t# match up each element of the 3 tensors (thats why using dim = 2)\n",
    "\tdirectionVectors = torch.stack((xShifted, yShifted, z), dim=2)\n",
    "\trotationMatrix = pose[0:3, 0:3]\n",
    "\trotatedDirections = directionVectors@rotationMatrix\n",
    "\t\n",
    "\torigin =  tensor(pose[:3, 2])\n",
    "\n",
    "\t# all the rays have the same origin\n",
    "\toriginTensor =  torch.broadcast_to(origin, rotatedDirections.shape)\n",
    "\treturn rotatedDirections, originTensor\n",
    "\n",
    "\n",
    "\t# print(directionVectors.shape)\n",
    "\t# print(xShifted[5][0])\n",
    "\t# print(yShifted[5][99])\n",
    "\t# print(x[4][6])\n",
    "\t# print(y[4][6])\n",
    "dirs, pos = getRays(width, height, focalLength, poses[10])\n",
    "print(dirs.shape, pos.shape)\n",
    "print(dirs[0][0], pos[0][0])\n"
   ]
  },
  {
   "cell_type": "code",
   "execution_count": 75,
   "metadata": {},
   "outputs": [],
   "source": [
    "%matplotlib inline\n"
   ]
  },
  {
   "cell_type": "code",
   "execution_count": 84,
   "metadata": {},
   "outputs": [],
   "source": [
    "import matplotlib\n",
    "\n",
    "matplotlib.use('WebAgg')\n",
    "\n",
    "def visulize_3D_rays():\n",
    "\n",
    "\tdirs, pos = getRays(width, height, focalLength, poses[10])\n",
    "\tfig = plt.figure(figsize=(4,4))\n",
    "\tax = fig.add_subplot(projection='3d')\n",
    "\tfor i in range(10)\t:\n",
    "\t\tfor j in range(10):\n",
    "\t\t\tdir = dirs[i][j]\n",
    "\t\t\tpos = dirs[i][j]\n",
    "\n",
    "\t\t\t# print(dir.shape)\n",
    "\t\t\tt = torch.arange(0, 10, 0.1)\n",
    "\t\t\t# print(t.shape)\n",
    "\n",
    "\t\t\t# t has shape (100)\n",
    "\t\t\t# dir has shape (3)\n",
    "\t\t\t# goal is shape (100, 3)\n",
    "\t\t\t# so change t to be (100, 1), dir to be (1, 3)\n",
    "\t\t\tt = t.reshape(100, 1)\n",
    "\t\t\tdir = dir.reshape(1, 3)\n",
    "\n",
    "\t\t\t# pos has shape (3), adding to something with pos (100, 3) \n",
    "\t\t\tz = pos+ t@dir\n",
    "\t\t\tax.scatter(z[:, 0], z[:, 1], z[:, 2])\n",
    "\tplt.show()\n",
    "visulize_3D_rays()\n"
   ]
  },
  {
   "cell_type": "code",
   "execution_count": 39,
   "metadata": {},
   "outputs": [
    {
     "ename": "NameError",
     "evalue": "name 'X' is not defined",
     "output_type": "error",
     "traceback": [
      "\u001b[0;31m---------------------------------------------------------------------------\u001b[0m",
      "\u001b[0;31mNameError\u001b[0m                                 Traceback (most recent call last)",
      "Cell \u001b[0;32mIn[39], line 9\u001b[0m\n\u001b[1;32m      6\u001b[0m \t\toutput \u001b[39m=\u001b[39m output\u001b[39m.\u001b[39mto(\u001b[39m\"\u001b[39m\u001b[39mcpu\u001b[39m\u001b[39m\"\u001b[39m)\n\u001b[1;32m      7\u001b[0m \t\t\u001b[39mreturn\u001b[39;00m output\n\u001b[0;32m----> 9\u001b[0m \u001b[39mprint\u001b[39m(get_image())\n",
      "Cell \u001b[0;32mIn[39], line 4\u001b[0m, in \u001b[0;36mget_image\u001b[0;34m()\u001b[0m\n\u001b[1;32m      1\u001b[0m \u001b[39mdef\u001b[39;00m \u001b[39mget_image\u001b[39m():\n\u001b[1;32m      2\u001b[0m \t\u001b[39mwith\u001b[39;00m torch\u001b[39m.\u001b[39mno_grad():\n\u001b[1;32m      3\u001b[0m \t\t\u001b[39m# output = torch.zeros((size, size, 3))\u001b[39;00m\n\u001b[0;32m----> 4\u001b[0m \t\toutput \u001b[39m=\u001b[39m model(X)\n\u001b[1;32m      5\u001b[0m \t\toutput \u001b[39m=\u001b[39m output\u001b[39m.\u001b[39mreshape(size, size, \u001b[39m3\u001b[39m)\n\u001b[1;32m      6\u001b[0m \t\toutput \u001b[39m=\u001b[39m output\u001b[39m.\u001b[39mto(\u001b[39m\"\u001b[39m\u001b[39mcpu\u001b[39m\u001b[39m\"\u001b[39m)\n",
      "\u001b[0;31mNameError\u001b[0m: name 'X' is not defined"
     ]
    }
   ],
   "source": [
    "def get_image():\n",
    "\twith torch.no_grad():\n",
    "\t\t# output = torch.zeros((size, size, 3))\n",
    "\t\toutput = model(X)\n",
    "\t\toutput = output.reshape(size, size, 3)\n",
    "\t\toutput = output.to(\"cpu\")\n",
    "\t\treturn output\n",
    "\n",
    "print(get_image())"
   ]
  },
  {
   "cell_type": "code",
   "execution_count": 32,
   "metadata": {},
   "outputs": [
    {
     "ename": "TypeError",
     "evalue": "range() missing 1 required positional arguments: \"end\"",
     "output_type": "error",
     "traceback": [
      "\u001b[0;31m---------------------------------------------------------------------------\u001b[0m",
      "\u001b[0;31mTypeError\u001b[0m                                 Traceback (most recent call last)",
      "Cell \u001b[0;32mIn[32], line 10\u001b[0m\n\u001b[1;32m      6\u001b[0m \t\t\u001b[39mreturn\u001b[39;00m loss\n\u001b[1;32m      8\u001b[0m optimizer \u001b[39m=\u001b[39m torch\u001b[39m.\u001b[39moptim\u001b[39m.\u001b[39mAdam(model\u001b[39m.\u001b[39mparameters(), lr\u001b[39m=\u001b[39m\u001b[39m0.001\u001b[39m)\n\u001b[0;32m---> 10\u001b[0m pbar \u001b[39m=\u001b[39m tqdm(\u001b[39mrange\u001b[39;49m(epochs))\n\u001b[1;32m     11\u001b[0m \u001b[39m# pbar = range(epochs)\u001b[39;00m\n\u001b[1;32m     13\u001b[0m image_display \u001b[39m=\u001b[39m \u001b[39mNone\u001b[39;00m\n",
      "\u001b[0;31mTypeError\u001b[0m: range() missing 1 required positional arguments: \"end\""
     ]
    }
   ],
   "source": [
    "epochs = 10000\n",
    "from tqdm import tqdm\n",
    "from IPython.display import clear_output\n",
    "def loss_fn(output, target):\n",
    "\t\tloss = torch.mean((output - target)**2)\n",
    "\t\treturn loss\n",
    "\n",
    "optimizer = torch.optim.Adam(model.parameters(), lr=0.001)\n",
    "\n",
    "pbar = tqdm(range(epochs))\n",
    "# pbar = range(epochs)\n",
    "\n",
    "image_display = None\n",
    "\n",
    "fig = plt.figure()\n",
    "ax = fig.gca()\n",
    "for n in pbar:\n",
    "    preds = model(X)\n",
    "    loss = loss_fn(preds, Y)\n",
    "    optimizer.zero_grad()\n",
    "    loss.backward()\n",
    "    optimizer.step()\n",
    "    pbar.set_description( f\"Loss is {loss}\")\n",
    "\n",
    "    if(n % 10 == 0):\n",
    "        clear_output()\n",
    "        image  = get_image()\n",
    "        plt.imshow(image)\n",
    "        # if not image_display:\n",
    "            # image_display = ax.imshow(image)\n",
    "            # image_display = plt.imshow(image)\n",
    "            # plt.show()\n",
    "        # image_display.set_data(image)\n",
    "        plt.show()\n",
    "        # fig.canvas.draw()\n",
    "        # fig.show()\n",
    "        # image_display.draw()\n",
    "\t\t"
   ]
  },
  {
   "cell_type": "code",
   "execution_count": 33,
   "metadata": {},
   "outputs": [
    {
     "ename": "NameError",
     "evalue": "name 'X' is not defined",
     "output_type": "error",
     "traceback": [
      "\u001b[0;31m---------------------------------------------------------------------------\u001b[0m",
      "\u001b[0;31mNameError\u001b[0m                                 Traceback (most recent call last)",
      "Cell \u001b[0;32mIn[33], line 1\u001b[0m\n\u001b[0;32m----> 1\u001b[0m image  \u001b[39m=\u001b[39m get_image()\n\u001b[1;32m      2\u001b[0m plt\u001b[39m.\u001b[39mimshow(image)\n",
      "Cell \u001b[0;32mIn[30], line 4\u001b[0m, in \u001b[0;36mget_image\u001b[0;34m()\u001b[0m\n\u001b[1;32m      1\u001b[0m \u001b[39mdef\u001b[39;00m \u001b[39mget_image\u001b[39m():\n\u001b[1;32m      2\u001b[0m \t\u001b[39mwith\u001b[39;00m torch\u001b[39m.\u001b[39mno_grad():\n\u001b[1;32m      3\u001b[0m \t\t\u001b[39m# output = torch.zeros((size, size, 3))\u001b[39;00m\n\u001b[0;32m----> 4\u001b[0m \t\toutput \u001b[39m=\u001b[39m model(X)\n\u001b[1;32m      5\u001b[0m \t\toutput \u001b[39m=\u001b[39m output\u001b[39m.\u001b[39mreshape(size, size, \u001b[39m3\u001b[39m)\n\u001b[1;32m      6\u001b[0m \t\toutput \u001b[39m=\u001b[39m output\u001b[39m.\u001b[39mto(\u001b[39m\"\u001b[39m\u001b[39mcpu\u001b[39m\u001b[39m\"\u001b[39m)\n",
      "\u001b[0;31mNameError\u001b[0m: name 'X' is not defined"
     ]
    }
   ],
   "source": [
    "image  = get_image()\n",
    "plt.imshow(image)"
   ]
  }
 ],
 "metadata": {
  "kernelspec": {
   "display_name": "Python 3.10.8 64-bit",
   "language": "python",
   "name": "python3"
  },
  "language_info": {
   "codemirror_mode": {
    "name": "ipython",
    "version": 3
   },
   "file_extension": ".py",
   "mimetype": "text/x-python",
   "name": "python",
   "nbconvert_exporter": "python",
   "pygments_lexer": "ipython3",
   "version": "3.11.4"
  },
  "orig_nbformat": 4,
  "vscode": {
   "interpreter": {
    "hash": "e7370f93d1d0cde622a1f8e1c04877d8463912d04d973331ad4851f04de6915a"
   }
  }
 },
 "nbformat": 4,
 "nbformat_minor": 2
}
