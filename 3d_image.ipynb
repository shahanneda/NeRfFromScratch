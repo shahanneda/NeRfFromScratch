{
 "cells": [
  {
   "cell_type": "code",
   "execution_count": 1,
   "metadata": {
    "tags": []
   },
   "outputs": [],
   "source": [
    "import torch\n",
    "import pandas as pd\n",
    "import numpy as np\n",
    "import matplotlib.pyplot as plt\n",
    "from mpl_toolkits.mplot3d import Axes3D \n",
    "import torch.nn as nn\n",
    "from torch import tensor\n",
    "device = torch.device(\"cuda:0\" if torch.cuda.is_available() else \"cpu\")"
   ]
  },
  {
   "cell_type": "code",
   "execution_count": 2,
   "metadata": {
    "tags": []
   },
   "outputs": [
    {
     "name": "stdout",
     "output_type": "stream",
     "text": [
      "torch.Size([106, 100, 100, 3])\n",
      "torch.Size([106, 4, 4])\n"
     ]
    }
   ],
   "source": [
    "data = np.load('tiny_nerf_data.npz')\n",
    "images = torch.tensor(data['images'])\n",
    "poses = torch.tensor(data['poses'])\n",
    "focalLength = data['focal']\n",
    "\n",
    "poses[12]\n",
    "print(images.shape)\n",
    "print(poses.shape)\n",
    "\n",
    "width = images.shape[1]\n",
    "height = images.shape[2]\n",
    "# plt.imshow(images[10])\n",
    "# for i in range(0, 100):\n",
    "#     plt.imsave(f\"im2/image{i}.png\", images[i])\n",
    "# poses[1]"
   ]
  },
  {
   "cell_type": "code",
   "execution_count": 3,
   "metadata": {
    "tags": []
   },
   "outputs": [],
   "source": [
    "numberOfFor = 6\n",
    "model = nn.Sequential(\n",
    "\t# 3 for the initial x, y,z coordiante\n",
    "\t# then for each fourier feature, one for sin(x), sin(y), sin(z), \n",
    "\t# and similarily 3 for cos\n",
    "\tnn.Linear(3 + 6*numberOfFor, 300),\n",
    "\tnn.ReLU(),\n",
    "\tnn.Linear(300, 300),\n",
    "\tnn.ReLU(),\n",
    "\tnn.Linear(300, 300),\n",
    "\tnn.ReLU(),\n",
    "\tnn.Linear(300, 300),\n",
    "\tnn.ReLU(),\n",
    "\t# 3 for r, g, b and last one for radiance\n",
    "\tnn.Linear(300, 4),\n",
    "\tnn.Sigmoid(),\n",
    ")\n",
    "model  = model.to(device)"
   ]
  },
  {
   "cell_type": "code",
   "execution_count": 4,
   "metadata": {
    "tags": []
   },
   "outputs": [],
   "source": [
    "# %matplotlib widget\n",
    "\n",
    "%matplotlib inline"
   ]
  },
  {
   "cell_type": "code",
   "execution_count": 5,
   "metadata": {
    "tags": []
   },
   "outputs": [
    {
     "name": "stderr",
     "output_type": "stream",
     "text": [
      "/opt/conda/lib/python3.10/site-packages/torch/functional.py:504: UserWarning: torch.meshgrid: in an upcoming release, it will be required to pass the indexing argument. (Triggered internally at ../aten/src/ATen/native/TensorShape.cpp:3483.)\n",
      "  return _VF.meshgrid(tensors, **kwargs)  # type: ignore[attr-defined]\n"
     ]
    },
    {
     "name": "stdout",
     "output_type": "stream",
     "text": [
      "torch.Size([100, 100, 3]) torch.Size([100, 100, 3])\n",
      "tensor([0.1192, 0.8673, 0.7020], device='cuda:0') tensor([-0.8323, -0.5092,  0.2190], device='cuda:0')\n"
     ]
    }
   ],
   "source": [
    "# returns a two tensors, one with shape [width, height, 3] \n",
    "# representing the direction of a ray going through each pixel and another [width, height, 3] \n",
    "# representing the starting position of that same ray (all of which are the same) since \n",
    "# all rays start out at the origin\n",
    "def getRays(width, height, focalLength, pose):\n",
    "    xCoords = tensor([x for x in torch.arange(width)])\n",
    "    yCoords = tensor([y for y in torch.arange(height)])\n",
    "    x, y = torch.meshgrid(xCoords, yCoords)\n",
    "    # print(x[55][49])\n",
    "    # print(y[55][49])\n",
    "\n",
    "    xShifted = (x - width*0.5)/focalLength # x coords in a [width, height] tensor\n",
    "    # xShifted = nn.functional.normalize(xShifted)\n",
    "\n",
    "    yShifted = (y - height*0.5)/focalLength # y coords in a [width, height] tensor\n",
    "    # yShifted = nn.functional.normalize(yShifted)\n",
    "\n",
    "    z = torch.ones_like(x)  # z coords in a [width, height] tensor\n",
    "\n",
    "    # match up each element of the 3 tensors (thats why using dim = 2)\n",
    "    directionVectors = torch.stack((xShifted, yShifted, z), dim=2).to(device)\n",
    "    rotationMatrix = pose[0:3, 0:3]\n",
    "    rotatedDirections = torch.matmul(directionVectors, rotationMatrix)\n",
    "\n",
    "    origin =  pose[:3, 2]\n",
    "\n",
    "    # all the rays have the same origin\n",
    "    originTensor =  torch.broadcast_to(origin, rotatedDirections.shape)\n",
    "    return rotatedDirections, originTensor\n",
    "\n",
    "\n",
    "\t# print(directionVectors.shape)\n",
    "\t# print(xShifted[5][0])\n",
    "\t# print(yShifted[5][99])\n",
    "\t# print(x[4][6])\n",
    "\t# print(y[4][6])\n",
    "dirs, pos = getRays(width, height, focalLength, poses[10].to(device))\n",
    "print(dirs.shape, pos.shape)\n",
    "print(dirs[0][0], pos[0][0])\n"
   ]
  },
  {
   "cell_type": "code",
   "execution_count": null,
   "metadata": {},
   "outputs": [],
   "source": []
  },
  {
   "cell_type": "code",
   "execution_count": 6,
   "metadata": {
    "tags": []
   },
   "outputs": [],
   "source": [
    "import matplotlib\n",
    "\n",
    "\n",
    "%matplotlib inline\n",
    "\n",
    "# matplotlib.use('WebAgg')\n",
    "\n",
    "\n",
    "numberOfSamples = 25\n",
    "far = 5\n",
    "distanceBetweenSamples = far / numberOfSamples\n",
    "\n",
    "def get_rays_with_samples(pose):\n",
    "\tdirs, pos = getRays(width, height, focalLength, pose)\n",
    "\n",
    "\t# dirs = (width, height, 3)\n",
    "\t# t = (numberOfSamples)\n",
    "\t# goal = (width, height, numberOfSamples, 3)\n",
    "\t# where goal[x][y][i] = dirs[x][y] * t[i]\n",
    "\tt = torch.linspace(0, far, numberOfSamples).reshape(1, 1, numberOfSamples, 1).to(device)\n",
    "\n",
    "\t# dirs has shape (width, height, 3) right now (a direction for every pixel)\n",
    "\t# We want to instead have a list of numberOfSamples for each pixel, so (width, height, numberOfSamples, 3)\n",
    "\tdirs = dirs.reshape(width, height, 1, 3)\n",
    "\tpos = pos.reshape(width, height, 1, 3)\n",
    "\tz = pos + t*dirs\n",
    "\tz = z.to(device)\n",
    "\treturn z\n",
    "\n",
    "# far = 2\n",
    "def visulize_3D_rays(poseNumber):\n",
    "    fig = plt.figure(figsize=(4,4))\n",
    "    ax = fig.add_subplot(projection='3d')\n",
    "    rays = get_rays_with_samples(poseNumber)\n",
    "    with torch.no_grad():\n",
    "        rays = rays.cpu()\n",
    "        for i in range(0, width, 10):\n",
    "            for j in range(0, height, 10):\n",
    "                step = 1\n",
    "                ray = rays[i][j][::step]\n",
    "                ax.scatter(ray[:, 0], ray[:,1], ray[:, 2])\n",
    "        ax.set_xlim3d([-far, far])\n",
    "        ax.set_ylim3d([-far, far])\n",
    "        ax.set_zlim3d([-far, far])\n",
    "        ax.set_autoscale_on(False)\n",
    "\n",
    "\t# plt.savefig(f\"img/{poseNumber}.png\")\n",
    "# for i in range(0, 100):\n",
    "\t# visulize_3D_rays(i)\n",
    "# visulize_3D_rays(0)\n",
    "# visulize_3D_rays(poses[5].to(device))\n",
    "# print(poses[20])\n",
    "# get_rays_with_samples(poses[0].to(device)).shape\n"
   ]
  },
  {
   "cell_type": "code",
   "execution_count": 7,
   "metadata": {
    "tags": []
   },
   "outputs": [],
   "source": [
    "import gc\n",
    "import math\n",
    "def get_model_at_each_sample_point(rays):\n",
    "    #rays is (width, height, numberOfSampels, 3), we want to turn the 3 into 15 by appling foruir feature vectors\n",
    "    # coord  = rays[0][0][0]\n",
    "    raysBackup = torch.clone(rays)\n",
    "    rays = rays.reshape(width, height, numberOfSamples, 1, 3, 1).expand(width, height, numberOfSamples, 2, 3, 1)\n",
    "    twos = torch.tensor(2).repeat(width, height, numberOfSamples, 2, 3, numberOfFor) # 2 since one for sin one for cos\n",
    "    # print(twos.shape)\n",
    "    twos[:, :, :, :, 0] = 1\n",
    "    twos = torch.cumprod(twos, dim=4).to(device)\n",
    "    # print(twos)\n",
    "    # Twos is a (3, numberOfFor+, 21) shaped where each row is [1, 2, 4, 8, ...]\n",
    "    encoding = rays*math.pi*twos\n",
    "    # print(encoding.shape)\n",
    "    encoding[:, :, :, 0] = torch.sin(encoding[:, :, :, 0])\n",
    "    encoding[:, :, :, 1] = torch.cos(encoding[:, :, :, 1])\n",
    "    encoding = torch.flatten(encoding, start_dim=3, end_dim=5)\n",
    "    # print(encoding.shape)\n",
    "\n",
    "    # add non fourer as well (rays backup is just the normal xyz coords)\n",
    "    encoding = torch.concat((raysBackup, encoding), dim=3)\n",
    "    # print(encoding.shape)\n",
    "    # print(encoding)\n",
    "\n",
    "    return model(encoding)\n",
    "    \n",
    "\n",
    "def get_image(pose):\n",
    "  # gc.collect()\n",
    "  # torch.cuda.empty_cache()\n",
    "  rays = get_rays_with_samples(pose)\n",
    "  return get_image_with_rays(rays)\n",
    "\n",
    "def get_image_with_rays(rays):\n",
    "  # current (width, height, numberOfSamples, 4)\n",
    "  out = get_model_at_each_sample_point(rays)\n",
    "  # model_out = (width, height, numberOfSamples, 4), where r is rgb + d\n",
    "  deltaI = tensor(distanceBetweenSamples)\n",
    "\n",
    "  # Goes from out = (width,height, numberOfSamples, 4) to C = (width, height, 3)\n",
    "\n",
    "  # The first two dimenstions are width and height\n",
    "  Ti = torch.cumprod(torch.exp(-out[:, : , :, 3]*deltaI), dim = 2)\n",
    "  Ti = Ti.reshape(width, height, numberOfSamples, 1)\n",
    "\n",
    "  aboservedAmounts = (1- torch.exp(-out[:, :, :, 3]*deltaI)).reshape((width, height, numberOfSamples, 1))\n",
    "  colorI = out[:, :, :, 0:3]\n",
    "\n",
    "  # Sum along the ray (the first two dimenensions are the width and height)\n",
    "  C = torch.sum(Ti*aboservedAmounts * colorI, dim = 2)\n",
    "  return C\n",
    "\n",
    "# get_image()\n",
    "def f():\n",
    "  with torch.no_grad():\n",
    "    get_image(poses[0].to(device))\n",
    "f()"
   ]
  },
  {
   "cell_type": "code",
   "execution_count": 8,
   "metadata": {
    "tags": []
   },
   "outputs": [
    {
     "data": {
      "image/png": "[encoded data removed]",
      "text/plain": [
       "<Figure size 640x480 with 1 Axes>"
      ]
     },
     "metadata": {},
     "output_type": "display_data"
    }
   ],
   "source": [
    "with torch.no_grad():\n",
    "        pose = poses[0].to(device)\n",
    "        im = get_image(pose).cpu()\n",
    "        plt.imshow(im)"
   ]
  },
  {
   "cell_type": "code",
   "execution_count": 10,
   "metadata": {
    "tags": []
   },
   "outputs": [
    {
     "name": "stderr",
     "output_type": "stream",
     "text": [
      "78: Loss is 0.029302841052412987:   6%|▌         | 607/10000 [12:58<3:20:53,  1.28s/it]"
     ]
    },
    {
     "name": "stderr",
     "output_type": "stream",
     "text": [
      "\n"
     ]
    },
    {
     "ename": "KeyboardInterrupt",
     "evalue": "",
     "output_type": "error",
     "traceback": [
      "\u001b[0;31m---------------------------------------------------------------------------\u001b[0m",
      "\u001b[0;31mKeyboardInterrupt\u001b[0m                         Traceback (most recent call last)",
      "Cell \u001b[0;32mIn[10], line 60\u001b[0m\n\u001b[1;32m     58\u001b[0m         axarr[\u001b[39m0\u001b[39m]\u001b[39m.\u001b[39mimshow(pred_image\u001b[39m.\u001b[39mcpu())\n\u001b[1;32m     59\u001b[0m         axarr[\u001b[39m1\u001b[39m]\u001b[39m.\u001b[39mimshow(image\u001b[39m.\u001b[39mcpu())\n\u001b[0;32m---> 60\u001b[0m         plt\u001b[39m.\u001b[39;49mshow()\n\u001b[1;32m     61\u001b[0m         \u001b[39m# plt.imshow(genImg)\u001b[39;00m\n\u001b[1;32m     62\u001b[0m         \u001b[39m# plt.imshow(image.cpu())\u001b[39;00m\n\u001b[1;32m     63\u001b[0m         \u001b[39m# if not image_display:\u001b[39;00m\n\u001b[0;32m   (...)\u001b[0m\n\u001b[1;32m     69\u001b[0m         \u001b[39m# fig.show()\u001b[39;00m\n\u001b[1;32m     70\u001b[0m         \u001b[39m# image_display.draw()\u001b[39;00m\n\u001b[1;32m     71\u001b[0m \u001b[39mif\u001b[39;00m( i \u001b[39m>\u001b[39m\u001b[39m=\u001b[39m \u001b[39m2000\u001b[39m):\n",
      "File \u001b[0;32m/opt/conda/lib/python3.10/site-packages/matplotlib/pyplot.py:445\u001b[0m, in \u001b[0;36mshow\u001b[0;34m(*args, **kwargs)\u001b[0m\n\u001b[1;32m    401\u001b[0m \u001b[39m\u001b[39m\u001b[39m\"\"\"\u001b[39;00m\n\u001b[1;32m    402\u001b[0m \u001b[39mDisplay all open figures.\u001b[39;00m\n\u001b[1;32m    403\u001b[0m \n\u001b[0;32m   (...)\u001b[0m\n\u001b[1;32m    442\u001b[0m \u001b[39mexplicitly there.\u001b[39;00m\n\u001b[1;32m    443\u001b[0m \u001b[39m\"\"\"\u001b[39;00m\n\u001b[1;32m    444\u001b[0m _warn_if_gui_out_of_main_thread()\n\u001b[0;32m--> 445\u001b[0m \u001b[39mreturn\u001b[39;00m _get_backend_mod()\u001b[39m.\u001b[39;49mshow(\u001b[39m*\u001b[39;49margs, \u001b[39m*\u001b[39;49m\u001b[39m*\u001b[39;49mkwargs)\n",
      "File \u001b[0;32m/opt/conda/lib/python3.10/site-packages/matplotlib_inline/backend_inline.py:90\u001b[0m, in \u001b[0;36mshow\u001b[0;34m(close, block)\u001b[0m\n\u001b[1;32m     88\u001b[0m \u001b[39mtry\u001b[39;00m:\n\u001b[1;32m     89\u001b[0m     \u001b[39mfor\u001b[39;00m figure_manager \u001b[39min\u001b[39;00m Gcf\u001b[39m.\u001b[39mget_all_fig_managers():\n\u001b[0;32m---> 90\u001b[0m         display(\n\u001b[1;32m     91\u001b[0m             figure_manager\u001b[39m.\u001b[39;49mcanvas\u001b[39m.\u001b[39;49mfigure,\n\u001b[1;32m     92\u001b[0m             metadata\u001b[39m=\u001b[39;49m_fetch_figure_metadata(figure_manager\u001b[39m.\u001b[39;49mcanvas\u001b[39m.\u001b[39;49mfigure)\n\u001b[1;32m     93\u001b[0m         )\n\u001b[1;32m     94\u001b[0m \u001b[39mfinally\u001b[39;00m:\n\u001b[1;32m     95\u001b[0m     show\u001b[39m.\u001b[39m_to_draw \u001b[39m=\u001b[39m []\n",
      "File \u001b[0;32m/opt/conda/lib/python3.10/site-packages/IPython/core/display_functions.py:298\u001b[0m, in \u001b[0;36mdisplay\u001b[0;34m(include, exclude, metadata, transient, display_id, raw, clear, *objs, **kwargs)\u001b[0m\n\u001b[1;32m    296\u001b[0m     publish_display_data(data\u001b[39m=\u001b[39mobj, metadata\u001b[39m=\u001b[39mmetadata, \u001b[39m*\u001b[39m\u001b[39m*\u001b[39mkwargs)\n\u001b[1;32m    297\u001b[0m \u001b[39melse\u001b[39;00m:\n\u001b[0;32m--> 298\u001b[0m     format_dict, md_dict \u001b[39m=\u001b[39m \u001b[39mformat\u001b[39;49m(obj, include\u001b[39m=\u001b[39;49minclude, exclude\u001b[39m=\u001b[39;49mexclude)\n\u001b[1;32m    299\u001b[0m     \u001b[39mif\u001b[39;00m \u001b[39mnot\u001b[39;00m format_dict:\n\u001b[1;32m    300\u001b[0m         \u001b[39m# nothing to display (e.g. _ipython_display_ took over)\u001b[39;00m\n\u001b[1;32m    301\u001b[0m         \u001b[39mcontinue\u001b[39;00m\n",
      "File \u001b[0;32m/opt/conda/lib/python3.10/site-packages/IPython/core/formatters.py:177\u001b[0m, in \u001b[0;36mDisplayFormatter.format\u001b[0;34m(self, obj, include, exclude)\u001b[0m\n\u001b[1;32m    175\u001b[0m md \u001b[39m=\u001b[39m \u001b[39mNone\u001b[39;00m\n\u001b[1;32m    176\u001b[0m \u001b[39mtry\u001b[39;00m:\n\u001b[0;32m--> 177\u001b[0m     data \u001b[39m=\u001b[39m formatter(obj)\n\u001b[1;32m    178\u001b[0m \u001b[39mexcept\u001b[39;00m:\n\u001b[1;32m    179\u001b[0m     \u001b[39m# FIXME: log the exception\u001b[39;00m\n\u001b[1;32m    180\u001b[0m     \u001b[39mraise\u001b[39;00m\n",
      "File \u001b[0;32m/opt/conda/lib/python3.10/site-packages/decorator.py:232\u001b[0m, in \u001b[0;36mdecorate.<locals>.fun\u001b[0;34m(*args, **kw)\u001b[0m\n\u001b[1;32m    230\u001b[0m \u001b[39mif\u001b[39;00m \u001b[39mnot\u001b[39;00m kwsyntax:\n\u001b[1;32m    231\u001b[0m     args, kw \u001b[39m=\u001b[39m fix(args, kw, sig)\n\u001b[0;32m--> 232\u001b[0m \u001b[39mreturn\u001b[39;00m caller(func, \u001b[39m*\u001b[39;49m(extras \u001b[39m+\u001b[39;49m args), \u001b[39m*\u001b[39;49m\u001b[39m*\u001b[39;49mkw)\n",
      "File \u001b[0;32m/opt/conda/lib/python3.10/site-packages/IPython/core/formatters.py:221\u001b[0m, in \u001b[0;36mcatch_format_error\u001b[0;34m(method, self, *args, **kwargs)\u001b[0m\n\u001b[1;32m    219\u001b[0m \u001b[39m\u001b[39m\u001b[39m\"\"\"show traceback on failed format call\"\"\"\u001b[39;00m\n\u001b[1;32m    220\u001b[0m \u001b[39mtry\u001b[39;00m:\n\u001b[0;32m--> 221\u001b[0m     r \u001b[39m=\u001b[39m method(\u001b[39mself\u001b[39;49m, \u001b[39m*\u001b[39;49margs, \u001b[39m*\u001b[39;49m\u001b[39m*\u001b[39;49mkwargs)\n\u001b[1;32m    222\u001b[0m \u001b[39mexcept\u001b[39;00m \u001b[39mNotImplementedError\u001b[39;00m:\n\u001b[1;32m    223\u001b[0m     \u001b[39m# don't warn on NotImplementedErrors\u001b[39;00m\n\u001b[1;32m    224\u001b[0m     \u001b[39mreturn\u001b[39;00m \u001b[39mself\u001b[39m\u001b[39m.\u001b[39m_check_return(\u001b[39mNone\u001b[39;00m, args[\u001b[39m0\u001b[39m])\n",
      "File \u001b[0;32m/opt/conda/lib/python3.10/site-packages/IPython/core/formatters.py:338\u001b[0m, in \u001b[0;36mBaseFormatter.__call__\u001b[0;34m(self, obj)\u001b[0m\n\u001b[1;32m    336\u001b[0m     \u001b[39mpass\u001b[39;00m\n\u001b[1;32m    337\u001b[0m \u001b[39melse\u001b[39;00m:\n\u001b[0;32m--> 338\u001b[0m     \u001b[39mreturn\u001b[39;00m printer(obj)\n\u001b[1;32m    339\u001b[0m \u001b[39m# Finally look for special method names\u001b[39;00m\n\u001b[1;32m    340\u001b[0m method \u001b[39m=\u001b[39m get_real_method(obj, \u001b[39mself\u001b[39m\u001b[39m.\u001b[39mprint_method)\n",
      "File \u001b[0;32m/opt/conda/lib/python3.10/site-packages/IPython/core/pylabtools.py:152\u001b[0m, in \u001b[0;36mprint_figure\u001b[0;34m(fig, fmt, bbox_inches, base64, **kwargs)\u001b[0m\n\u001b[1;32m    149\u001b[0m     \u001b[39mfrom\u001b[39;00m \u001b[39mmatplotlib\u001b[39;00m\u001b[39m.\u001b[39;00m\u001b[39mbackend_bases\u001b[39;00m \u001b[39mimport\u001b[39;00m FigureCanvasBase\n\u001b[1;32m    150\u001b[0m     FigureCanvasBase(fig)\n\u001b[0;32m--> 152\u001b[0m fig\u001b[39m.\u001b[39;49mcanvas\u001b[39m.\u001b[39;49mprint_figure(bytes_io, \u001b[39m*\u001b[39;49m\u001b[39m*\u001b[39;49mkw)\n\u001b[1;32m    153\u001b[0m data \u001b[39m=\u001b[39m bytes_io\u001b[39m.\u001b[39mgetvalue()\n\u001b[1;32m    154\u001b[0m \u001b[39mif\u001b[39;00m fmt \u001b[39m==\u001b[39m \u001b[39m'\u001b[39m\u001b[39msvg\u001b[39m\u001b[39m'\u001b[39m:\n",
      "File \u001b[0;32m/opt/conda/lib/python3.10/site-packages/matplotlib/backend_bases.py:2342\u001b[0m, in \u001b[0;36mFigureCanvasBase.print_figure\u001b[0;34m(self, filename, dpi, facecolor, edgecolor, orientation, format, bbox_inches, pad_inches, bbox_extra_artists, backend, **kwargs)\u001b[0m\n\u001b[1;32m   2340\u001b[0m \u001b[39mif\u001b[39;00m bbox_inches:\n\u001b[1;32m   2341\u001b[0m     \u001b[39mif\u001b[39;00m bbox_inches \u001b[39m==\u001b[39m \u001b[39m\"\u001b[39m\u001b[39mtight\u001b[39m\u001b[39m\"\u001b[39m:\n\u001b[0;32m-> 2342\u001b[0m         bbox_inches \u001b[39m=\u001b[39m \u001b[39mself\u001b[39;49m\u001b[39m.\u001b[39;49mfigure\u001b[39m.\u001b[39;49mget_tightbbox(\n\u001b[1;32m   2343\u001b[0m             renderer, bbox_extra_artists\u001b[39m=\u001b[39;49mbbox_extra_artists)\n\u001b[1;32m   2344\u001b[0m         \u001b[39mif\u001b[39;00m pad_inches \u001b[39mis\u001b[39;00m \u001b[39mNone\u001b[39;00m:\n\u001b[1;32m   2345\u001b[0m             pad_inches \u001b[39m=\u001b[39m rcParams[\u001b[39m'\u001b[39m\u001b[39msavefig.pad_inches\u001b[39m\u001b[39m'\u001b[39m]\n",
      "File \u001b[0;32m/opt/conda/lib/python3.10/site-packages/matplotlib/figure.py:1740\u001b[0m, in \u001b[0;36mFigureBase.get_tightbbox\u001b[0;34m(self, renderer, bbox_extra_artists)\u001b[0m\n\u001b[1;32m   1736\u001b[0m \u001b[39mif\u001b[39;00m ax\u001b[39m.\u001b[39mget_visible():\n\u001b[1;32m   1737\u001b[0m     \u001b[39m# some axes don't take the bbox_extra_artists kwarg so we\u001b[39;00m\n\u001b[1;32m   1738\u001b[0m     \u001b[39m# need this conditional....\u001b[39;00m\n\u001b[1;32m   1739\u001b[0m     \u001b[39mtry\u001b[39;00m:\n\u001b[0;32m-> 1740\u001b[0m         bbox \u001b[39m=\u001b[39m ax\u001b[39m.\u001b[39;49mget_tightbbox(\n\u001b[1;32m   1741\u001b[0m             renderer, bbox_extra_artists\u001b[39m=\u001b[39;49mbbox_extra_artists)\n\u001b[1;32m   1742\u001b[0m     \u001b[39mexcept\u001b[39;00m \u001b[39mTypeError\u001b[39;00m:\n\u001b[1;32m   1743\u001b[0m         bbox \u001b[39m=\u001b[39m ax\u001b[39m.\u001b[39mget_tightbbox(renderer)\n",
      "File \u001b[0;32m/opt/conda/lib/python3.10/site-packages/matplotlib/axes/_base.py:4387\u001b[0m, in \u001b[0;36m_AxesBase.get_tightbbox\u001b[0;34m(self, renderer, call_axes_locator, bbox_extra_artists, for_layout_only)\u001b[0m\n\u001b[1;32m   4385\u001b[0m \u001b[39mfor\u001b[39;00m axis \u001b[39min\u001b[39;00m \u001b[39mself\u001b[39m\u001b[39m.\u001b[39m_axis_map\u001b[39m.\u001b[39mvalues():\n\u001b[1;32m   4386\u001b[0m     \u001b[39mif\u001b[39;00m \u001b[39mself\u001b[39m\u001b[39m.\u001b[39maxison \u001b[39mand\u001b[39;00m axis\u001b[39m.\u001b[39mget_visible():\n\u001b[0;32m-> 4387\u001b[0m         ba \u001b[39m=\u001b[39m martist\u001b[39m.\u001b[39;49m_get_tightbbox_for_layout_only(axis, renderer)\n\u001b[1;32m   4388\u001b[0m         \u001b[39mif\u001b[39;00m ba:\n\u001b[1;32m   4389\u001b[0m             bb\u001b[39m.\u001b[39mappend(ba)\n",
      "File \u001b[0;32m/opt/conda/lib/python3.10/site-packages/matplotlib/artist.py:1415\u001b[0m, in \u001b[0;36m_get_tightbbox_for_layout_only\u001b[0;34m(obj, *args, **kwargs)\u001b[0m\n\u001b[1;32m   1409\u001b[0m \u001b[39m\u001b[39m\u001b[39m\"\"\"\u001b[39;00m\n\u001b[1;32m   1410\u001b[0m \u001b[39mMatplotlib's `.Axes.get_tightbbox` and `.Axis.get_tightbbox` support a\u001b[39;00m\n\u001b[1;32m   1411\u001b[0m \u001b[39m*for_layout_only* kwarg; this helper tries to use the kwarg but skips it\u001b[39;00m\n\u001b[1;32m   1412\u001b[0m \u001b[39mwhen encountering third-party subclasses that do not support it.\u001b[39;00m\n\u001b[1;32m   1413\u001b[0m \u001b[39m\"\"\"\u001b[39;00m\n\u001b[1;32m   1414\u001b[0m \u001b[39mtry\u001b[39;00m:\n\u001b[0;32m-> 1415\u001b[0m     \u001b[39mreturn\u001b[39;00m obj\u001b[39m.\u001b[39;49mget_tightbbox(\u001b[39m*\u001b[39;49margs, \u001b[39m*\u001b[39;49m\u001b[39m*\u001b[39;49m{\u001b[39m*\u001b[39;49m\u001b[39m*\u001b[39;49mkwargs, \u001b[39m\"\u001b[39;49m\u001b[39mfor_layout_only\u001b[39;49m\u001b[39m\"\u001b[39;49m: \u001b[39mTrue\u001b[39;49;00m})\n\u001b[1;32m   1416\u001b[0m \u001b[39mexcept\u001b[39;00m \u001b[39mTypeError\u001b[39;00m:\n\u001b[1;32m   1417\u001b[0m     \u001b[39mreturn\u001b[39;00m obj\u001b[39m.\u001b[39mget_tightbbox(\u001b[39m*\u001b[39margs, \u001b[39m*\u001b[39m\u001b[39m*\u001b[39mkwargs)\n",
      "File \u001b[0;32m/opt/conda/lib/python3.10/site-packages/matplotlib/axis.py:1320\u001b[0m, in \u001b[0;36mAxis.get_tightbbox\u001b[0;34m(self, renderer, for_layout_only)\u001b[0m\n\u001b[1;32m   1317\u001b[0m     renderer \u001b[39m=\u001b[39m \u001b[39mself\u001b[39m\u001b[39m.\u001b[39mfigure\u001b[39m.\u001b[39m_get_renderer()\n\u001b[1;32m   1318\u001b[0m ticks_to_draw \u001b[39m=\u001b[39m \u001b[39mself\u001b[39m\u001b[39m.\u001b[39m_update_ticks()\n\u001b[0;32m-> 1320\u001b[0m \u001b[39mself\u001b[39;49m\u001b[39m.\u001b[39;49m_update_label_position(renderer)\n\u001b[1;32m   1322\u001b[0m \u001b[39m# go back to just this axis's tick labels\u001b[39;00m\n\u001b[1;32m   1323\u001b[0m tlb1, tlb2 \u001b[39m=\u001b[39m \u001b[39mself\u001b[39m\u001b[39m.\u001b[39m_get_ticklabel_bboxes(ticks_to_draw, renderer)\n",
      "File \u001b[0;32m/opt/conda/lib/python3.10/site-packages/matplotlib/axis.py:2574\u001b[0m, in \u001b[0;36mYAxis._update_label_position\u001b[0;34m(self, renderer)\u001b[0m\n\u001b[1;32m   2572\u001b[0m \u001b[39mtry\u001b[39;00m:\n\u001b[1;32m   2573\u001b[0m     spine \u001b[39m=\u001b[39m \u001b[39mself\u001b[39m\u001b[39m.\u001b[39maxes\u001b[39m.\u001b[39mspines[\u001b[39m'\u001b[39m\u001b[39mleft\u001b[39m\u001b[39m'\u001b[39m]\n\u001b[0;32m-> 2574\u001b[0m     spinebbox \u001b[39m=\u001b[39m spine\u001b[39m.\u001b[39;49mget_window_extent()\n\u001b[1;32m   2575\u001b[0m \u001b[39mexcept\u001b[39;00m \u001b[39mKeyError\u001b[39;00m:\n\u001b[1;32m   2576\u001b[0m     \u001b[39m# use Axes if spine doesn't exist\u001b[39;00m\n\u001b[1;32m   2577\u001b[0m     spinebbox \u001b[39m=\u001b[39m \u001b[39mself\u001b[39m\u001b[39m.\u001b[39maxes\u001b[39m.\u001b[39mbbox\n",
      "File \u001b[0;32m/opt/conda/lib/python3.10/site-packages/matplotlib/spines.py:158\u001b[0m, in \u001b[0;36mSpine.get_window_extent\u001b[0;34m(self, renderer)\u001b[0m\n\u001b[1;32m    156\u001b[0m     \u001b[39mreturn\u001b[39;00m bb\n\u001b[1;32m    157\u001b[0m bboxes \u001b[39m=\u001b[39m [bb]\n\u001b[0;32m--> 158\u001b[0m drawn_ticks \u001b[39m=\u001b[39m \u001b[39mself\u001b[39;49m\u001b[39m.\u001b[39;49maxis\u001b[39m.\u001b[39;49m_update_ticks()\n\u001b[1;32m    160\u001b[0m major_tick \u001b[39m=\u001b[39m \u001b[39mnext\u001b[39m(\u001b[39miter\u001b[39m({\u001b[39m*\u001b[39mdrawn_ticks} \u001b[39m&\u001b[39m {\u001b[39m*\u001b[39m\u001b[39mself\u001b[39m\u001b[39m.\u001b[39maxis\u001b[39m.\u001b[39mmajorTicks}), \u001b[39mNone\u001b[39;00m)\n\u001b[1;32m    161\u001b[0m minor_tick \u001b[39m=\u001b[39m \u001b[39mnext\u001b[39m(\u001b[39miter\u001b[39m({\u001b[39m*\u001b[39mdrawn_ticks} \u001b[39m&\u001b[39m {\u001b[39m*\u001b[39m\u001b[39mself\u001b[39m\u001b[39m.\u001b[39maxis\u001b[39m.\u001b[39mminorTicks}), \u001b[39mNone\u001b[39;00m)\n",
      "File \u001b[0;32m/opt/conda/lib/python3.10/site-packages/matplotlib/axis.py:1257\u001b[0m, in \u001b[0;36mAxis._update_ticks\u001b[0;34m(self)\u001b[0m\n\u001b[1;32m   1252\u001b[0m \u001b[39mdef\u001b[39;00m \u001b[39m_update_ticks\u001b[39m(\u001b[39mself\u001b[39m):\n\u001b[1;32m   1253\u001b[0m \u001b[39m    \u001b[39m\u001b[39m\"\"\"\u001b[39;00m\n\u001b[1;32m   1254\u001b[0m \u001b[39m    Update ticks (position and labels) using the current data interval of\u001b[39;00m\n\u001b[1;32m   1255\u001b[0m \u001b[39m    the axes.  Return the list of ticks that will be drawn.\u001b[39;00m\n\u001b[1;32m   1256\u001b[0m \u001b[39m    \"\"\"\u001b[39;00m\n\u001b[0;32m-> 1257\u001b[0m     major_locs \u001b[39m=\u001b[39m \u001b[39mself\u001b[39;49m\u001b[39m.\u001b[39;49mget_majorticklocs()\n\u001b[1;32m   1258\u001b[0m     major_labels \u001b[39m=\u001b[39m \u001b[39mself\u001b[39m\u001b[39m.\u001b[39mmajor\u001b[39m.\u001b[39mformatter\u001b[39m.\u001b[39mformat_ticks(major_locs)\n\u001b[1;32m   1259\u001b[0m     major_ticks \u001b[39m=\u001b[39m \u001b[39mself\u001b[39m\u001b[39m.\u001b[39mget_major_ticks(\u001b[39mlen\u001b[39m(major_locs))\n",
      "File \u001b[0;32m/opt/conda/lib/python3.10/site-packages/matplotlib/axis.py:1479\u001b[0m, in \u001b[0;36mAxis.get_majorticklocs\u001b[0;34m(self)\u001b[0m\n\u001b[1;32m   1477\u001b[0m \u001b[39mdef\u001b[39;00m \u001b[39mget_majorticklocs\u001b[39m(\u001b[39mself\u001b[39m):\n\u001b[1;32m   1478\u001b[0m \u001b[39m    \u001b[39m\u001b[39m\"\"\"Return this Axis' major tick locations in data coordinates.\"\"\"\u001b[39;00m\n\u001b[0;32m-> 1479\u001b[0m     \u001b[39mreturn\u001b[39;00m \u001b[39mself\u001b[39;49m\u001b[39m.\u001b[39;49mmajor\u001b[39m.\u001b[39;49mlocator()\n",
      "File \u001b[0;32m/opt/conda/lib/python3.10/site-packages/matplotlib/ticker.py:2136\u001b[0m, in \u001b[0;36mMaxNLocator.__call__\u001b[0;34m(self)\u001b[0m\n\u001b[1;32m   2134\u001b[0m \u001b[39mdef\u001b[39;00m \u001b[39m__call__\u001b[39m(\u001b[39mself\u001b[39m):\n\u001b[1;32m   2135\u001b[0m     vmin, vmax \u001b[39m=\u001b[39m \u001b[39mself\u001b[39m\u001b[39m.\u001b[39maxis\u001b[39m.\u001b[39mget_view_interval()\n\u001b[0;32m-> 2136\u001b[0m     \u001b[39mreturn\u001b[39;00m \u001b[39mself\u001b[39;49m\u001b[39m.\u001b[39;49mtick_values(vmin, vmax)\n",
      "File \u001b[0;32m/opt/conda/lib/python3.10/site-packages/matplotlib/ticker.py:2142\u001b[0m, in \u001b[0;36mMaxNLocator.tick_values\u001b[0;34m(self, vmin, vmax)\u001b[0m\n\u001b[1;32m   2140\u001b[0m     vmax \u001b[39m=\u001b[39m \u001b[39mmax\u001b[39m(\u001b[39mabs\u001b[39m(vmin), \u001b[39mabs\u001b[39m(vmax))\n\u001b[1;32m   2141\u001b[0m     vmin \u001b[39m=\u001b[39m \u001b[39m-\u001b[39mvmax\n\u001b[0;32m-> 2142\u001b[0m vmin, vmax \u001b[39m=\u001b[39m mtransforms\u001b[39m.\u001b[39;49mnonsingular(\n\u001b[1;32m   2143\u001b[0m     vmin, vmax, expander\u001b[39m=\u001b[39;49m\u001b[39m1e-13\u001b[39;49m, tiny\u001b[39m=\u001b[39;49m\u001b[39m1e-14\u001b[39;49m)\n\u001b[1;32m   2144\u001b[0m locs \u001b[39m=\u001b[39m \u001b[39mself\u001b[39m\u001b[39m.\u001b[39m_raw_ticks(vmin, vmax)\n\u001b[1;32m   2146\u001b[0m prune \u001b[39m=\u001b[39m \u001b[39mself\u001b[39m\u001b[39m.\u001b[39m_prune\n",
      "File \u001b[0;32m/opt/conda/lib/python3.10/site-packages/matplotlib/transforms.py:2863\u001b[0m, in \u001b[0;36mnonsingular\u001b[0;34m(vmin, vmax, expander, tiny, increasing)\u001b[0m\n\u001b[1;32m   2860\u001b[0m vmin, vmax \u001b[39m=\u001b[39m \u001b[39mmap\u001b[39m(\u001b[39mfloat\u001b[39m, [vmin, vmax])\n\u001b[1;32m   2862\u001b[0m maxabsvalue \u001b[39m=\u001b[39m \u001b[39mmax\u001b[39m(\u001b[39mabs\u001b[39m(vmin), \u001b[39mabs\u001b[39m(vmax))\n\u001b[0;32m-> 2863\u001b[0m \u001b[39mif\u001b[39;00m maxabsvalue \u001b[39m<\u001b[39m (\u001b[39m1e6\u001b[39m \u001b[39m/\u001b[39m tiny) \u001b[39m*\u001b[39m np\u001b[39m.\u001b[39;49mfinfo(\u001b[39mfloat\u001b[39;49m)\u001b[39m.\u001b[39mtiny:\n\u001b[1;32m   2864\u001b[0m     vmin \u001b[39m=\u001b[39m \u001b[39m-\u001b[39mexpander\n\u001b[1;32m   2865\u001b[0m     vmax \u001b[39m=\u001b[39m expander\n",
      "File \u001b[0;32m/opt/conda/lib/python3.10/site-packages/numpy/core/getlimits.py:465\u001b[0m, in \u001b[0;36mfinfo.__new__\u001b[0;34m(cls, dtype)\u001b[0m\n\u001b[1;32m    461\u001b[0m \u001b[39mexcept\u001b[39;00m \u001b[39mTypeError\u001b[39;00m:\n\u001b[1;32m    462\u001b[0m     \u001b[39m# In case a float instance was given\u001b[39;00m\n\u001b[1;32m    463\u001b[0m     dtype \u001b[39m=\u001b[39m numeric\u001b[39m.\u001b[39mdtype(\u001b[39mtype\u001b[39m(dtype))\n\u001b[0;32m--> 465\u001b[0m obj \u001b[39m=\u001b[39m \u001b[39mcls\u001b[39;49m\u001b[39m.\u001b[39;49m_finfo_cache\u001b[39m.\u001b[39;49mget(dtype, \u001b[39mNone\u001b[39;49;00m)\n\u001b[1;32m    466\u001b[0m \u001b[39mif\u001b[39;00m obj \u001b[39mis\u001b[39;00m \u001b[39mnot\u001b[39;00m \u001b[39mNone\u001b[39;00m:\n\u001b[1;32m    467\u001b[0m     \u001b[39mreturn\u001b[39;00m obj\n",
      "\u001b[0;31mKeyboardInterrupt\u001b[0m: "
     ]
    }
   ],
   "source": [
    "epochs = 10000\n",
    "from tqdm import tqdm\n",
    "from IPython.display import clear_output\n",
    "def loss_fn(output, target):\n",
    "\t\tloss = torch.mean((output - target)**2)\n",
    "\t\treturn loss\n",
    "\n",
    "optimizer = torch.optim.Adam(model.parameters(), lr=0.001)\n",
    "\n",
    "pbar = tqdm(range(epochs))\n",
    "# pbar = range(epochs)\n",
    "\n",
    "image_display = None\n",
    "\n",
    "fig = plt.figure()\n",
    "ax = fig.gca()\n",
    "i = 0\n",
    "loss = 0\n",
    "\n",
    "\n",
    "pose = poses[3]\n",
    "# image = images[3]\n",
    "# pose = pose.to(device)\n",
    "# rays = get_rays_with_samples(pose)\n",
    "\n",
    "torch.cuda.empty_cache()\n",
    "poseToRays = {}\n",
    "torch.cuda.empty_cache()\n",
    "\n",
    "for n in pbar: \n",
    "    torch.cuda.empty_cache()\n",
    "    for index, (pose, image) in enumerate(zip(poses[0:10], images[0:10])):\n",
    "        i += 1\n",
    "        if index not in poseToRays:\n",
    "              pose = pose.to(device)\n",
    "              poseToRays[index] = get_rays_with_samples(pose)\n",
    "\n",
    "        rays = poseToRays[index]\n",
    "        pred_image = get_image_with_rays(rays)\n",
    "        image = image.to(device)\n",
    "        loss += loss_fn(pred_image, image)\n",
    "        \n",
    "        if(i % 3 == 0):\n",
    "            optimizer.zero_grad()\n",
    "            loss.backward()\n",
    "            optimizer.step()\n",
    "            pbar.set_description( f\"{i}: Loss is {loss}\")\n",
    "            loss = 0\n",
    "\n",
    "        if(i % 26 == 0):\n",
    "        # if(False):\n",
    "            # print(\"displaying\")\n",
    "            with torch.no_grad():\n",
    "                clear_output()\n",
    "                plt.close()\n",
    "                # genImg  = get_image_with_rays(rays).cpu()\n",
    "                f, axarr = plt.subplots(1,2)\n",
    "                axarr[0].imshow(pred_image.cpu())\n",
    "                axarr[1].imshow(image.cpu())\n",
    "                plt.show()\n",
    "                # plt.imshow(genImg)\n",
    "                # plt.imshow(image.cpu())\n",
    "                # if not image_display:\n",
    "                    # image_display = ax.imshow(image)\n",
    "                    # image_display = plt.imshow(image)\n",
    "                    # plt.show()\n",
    "                # image_display.set_data(image)\n",
    "                # fig.canvas.draw()\n",
    "                # fig.show()\n",
    "                # image_display.draw()\n",
    "        if( i >= 2000):\n",
    "            i = 0\n",
    "        \n",
    "\n"
   ]
  },
  {
   "cell_type": "code",
   "execution_count": null,
   "metadata": {},
   "outputs": [],
   "source": [
    "# torch.save(model.state_dict(), \"./basic_model.pkl\")"
   ]
  },
  {
   "cell_type": "code",
   "execution_count": null,
   "metadata": {},
   "outputs": [
    {
     "name": "stdout",
     "output_type": "stream",
     "text": [
      "tensor(4.0305)\n"
     ]
    }
   ],
   "source": [
    "print(torch.max(poses[:, :, 3]))"
   ]
  },
  {
   "cell_type": "code",
   "execution_count": null,
   "metadata": {
    "tags": []
   },
   "outputs": [
    {
     "data": {
      "image/png": "[encoded data removed]",
      "text/plain": [
       "<Figure size 640x480 with 1 Axes>"
      ]
     },
     "metadata": {},
     "output_type": "display_data"
    }
   ],
   "source": [
    "with torch.no_grad():\n",
    "\timage  = get_image(poses[5].to(device))\n",
    "\tplt.imshow(image.cpu())"
   ]
  }
 ],
 "metadata": {
  "kernelspec": {
   "display_name": "Python 3 (ipykernel)",
   "language": "python",
   "name": "python3"
  },
  "language_info": {
   "codemirror_mode": {
    "name": "ipython",
    "version": 3
   },
   "file_extension": ".py",
   "mimetype": "text/x-python",
   "name": "python",
   "nbconvert_exporter": "python",
   "pygments_lexer": "ipython3",
   "version": "3.10.9"
  },
  "vscode": {
   "interpreter": {
    "hash": "e7370f93d1d0cde622a1f8e1c04877d8463912d04d973331ad4851f04de6915a"
   }
  }
 },
 "nbformat": 4,
 "nbformat_minor": 4
}
