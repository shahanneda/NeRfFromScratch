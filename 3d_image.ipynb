{
 "cells": [
  {
   "cell_type": "code",
   "execution_count": 1,
   "metadata": {},
   "outputs": [],
   "source": [
    "import torch\n",
    "import pandas as pd\n",
    "import numpy as np\n",
    "import matplotlib.pyplot as plt\n",
    "from mpl_toolkits.mplot3d import Axes3D \n",
    "import torch.nn as nn\n",
    "from torch import tensor\n",
    "device = torch.device(\"cuda:0\" if torch.cuda.is_available() else \"cpu\")"
   ]
  },
  {
   "cell_type": "code",
   "execution_count": 2,
   "metadata": {},
   "outputs": [
    {
     "name": "stdout",
     "output_type": "stream",
     "text": [
      "(106, 100, 100, 3)\n",
      "(106, 4, 4)\n"
     ]
    }
   ],
   "source": [
    "data = np.load('tiny_nerf_data.npz')\n",
    "images = data['images']\n",
    "poses = data['poses']\n",
    "focalLength = data['focal']\n",
    "\n",
    "poses[12]\n",
    "print(images.shape)\n",
    "print(poses.shape)\n",
    "\n",
    "width = images.shape[1]\n",
    "height = images.shape[2]\n",
    "# plt.imshow(images[10])\n",
    "for i in range(0, 100):\n",
    "    plt.imsave(f\"im2/image{i}.png\", images[i])\n",
    "# poses[1]"
   ]
  },
  {
   "cell_type": "code",
   "execution_count": 3,
   "metadata": {},
   "outputs": [],
   "source": [
    "numberOfFor = 0\n",
    "model = nn.Sequential(\n",
    "\t# 3 for the initial x, y,z coordiante\n",
    "\t# then for each fourier feature, one for sin(x), sin(y), sin(z), \n",
    "\t# and similarily 3 for cos\n",
    "\tnn.Linear(3 + 6*numberOfFor, 300),\n",
    "\tnn.ReLU(),\n",
    "\tnn.Linear(300, 300),\n",
    "\tnn.ReLU(),\n",
    "\tnn.Linear(300, 300),\n",
    "\tnn.ReLU(),\n",
    "\tnn.Linear(300, 300),\n",
    "\tnn.ReLU(),\n",
    "\t# 3 for r, g, b and last one for radiance\n",
    "\tnn.Linear(300, 4),\n",
    "\tnn.Sigmoid(),\n",
    ")\n",
    "model  = model.to(device)"
   ]
  },
  {
   "cell_type": "code",
   "execution_count": 4,
   "metadata": {},
   "outputs": [],
   "source": [
    "# %matplotlib widget\n",
    "\n",
    "%matplotlib inline"
   ]
  },
  {
   "cell_type": "code",
   "execution_count": 5,
   "metadata": {},
   "outputs": [
    {
     "name": "stdout",
     "output_type": "stream",
     "text": [
      "torch.Size([100, 100, 3]) torch.Size([100, 100, 3])\n",
      "tensor([0.0955, 0.9372, 0.3905]) tensor([-0.8323, -0.5092,  0.2190])\n"
     ]
    },
    {
     "name": "stderr",
     "output_type": "stream",
     "text": [
      "/home/shahanneda/.local/lib/python3.11/site-packages/torch/functional.py:504: UserWarning: torch.meshgrid: in an upcoming release, it will be required to pass the indexing argument. (Triggered internally at ../aten/src/ATen/native/TensorShape.cpp:3483.)\n",
      "  return _VF.meshgrid(tensors, **kwargs)  # type: ignore[attr-defined]\n"
     ]
    }
   ],
   "source": [
    "# returns a two tensors, one with shape [width, height, 3] \n",
    "# representing the direction of a ray going through each pixel and another [width, height, 3] \n",
    "# representing the starting position of that same ray (all of which are the same) since \n",
    "# all rays start out at the origin\n",
    "def getRays(width, height, focalLength, pose):\n",
    "\txCoords = tensor([x for x in torch.arange(width)])\n",
    "\tyCoords = tensor([y for y in torch.arange(height)])\n",
    "\tx, y = torch.meshgrid(xCoords, yCoords)\n",
    "\t# print(x[55][49])\n",
    "\t# print(y[55][49])\n",
    "\n",
    "\txShifted = x - width*0.5 # x coords in a [width, height] tensor\n",
    "\txShifted = nn.functional.normalize(xShifted)\n",
    "\n",
    "\tyShifted = y - height*0.5 # y coords in a [width, height] tensor\n",
    "\tyShifted = nn.functional.normalize(yShifted)\n",
    "\n",
    "\tz = torch.ones_like(x)  # z coords in a [width, height] tensor\n",
    "\n",
    "\t# match up each element of the 3 tensors (thats why using dim = 2)\n",
    "\tdirectionVectors = torch.stack((xShifted, yShifted, z), dim=2)\n",
    "\trotationMatrix = pose[0:3, 0:3]\n",
    "\trotatedDirections = directionVectors@rotationMatrix\n",
    "\t\n",
    "\torigin =  tensor(pose[:3, 2])\n",
    "\n",
    "\t# all the rays have the same origin\n",
    "\toriginTensor =  torch.broadcast_to(origin, rotatedDirections.shape)\n",
    "\treturn rotatedDirections, originTensor\n",
    "\n",
    "\n",
    "\t# print(directionVectors.shape)\n",
    "\t# print(xShifted[5][0])\n",
    "\t# print(yShifted[5][99])\n",
    "\t# print(x[4][6])\n",
    "\t# print(y[4][6])\n",
    "dirs, pos = getRays(width, height, focalLength, poses[10])\n",
    "print(dirs.shape, pos.shape)\n",
    "print(dirs[0][0], pos[0][0])\n"
   ]
  },
  {
   "cell_type": "code",
   "execution_count": null,
   "metadata": {},
   "outputs": [],
   "source": []
  },
  {
   "cell_type": "code",
   "execution_count": 9,
   "metadata": {},
   "outputs": [
    {
     "ename": "TypeError",
     "evalue": "can't convert cuda:0 device type tensor to numpy. Use Tensor.cpu() to copy the tensor to host memory first.",
     "output_type": "error",
     "traceback": [
      "\u001b[0;31m---------------------------------------------------------------------------\u001b[0m",
      "\u001b[0;31mTypeError\u001b[0m                                 Traceback (most recent call last)",
      "Cell \u001b[0;32mIn[9], line 48\u001b[0m\n\u001b[1;32m     43\u001b[0m \tax\u001b[39m.\u001b[39mset_autoscale_on(\u001b[39mFalse\u001b[39;00m)\n\u001b[1;32m     45\u001b[0m \t\u001b[39m# plt.savefig(f\"img/{poseNumber}.png\")\u001b[39;00m\n\u001b[1;32m     46\u001b[0m \u001b[39m# for i in range(0, 100):\u001b[39;00m\n\u001b[1;32m     47\u001b[0m \t\u001b[39m# visulize_3D_rays(i)\u001b[39;00m\n\u001b[0;32m---> 48\u001b[0m visulize_3D_rays(\u001b[39m0\u001b[39;49m)\n\u001b[1;32m     49\u001b[0m visulize_3D_rays(\u001b[39m5\u001b[39m)\n\u001b[1;32m     50\u001b[0m get_rays_with_samples(\u001b[39m10\u001b[39m)\u001b[39m.\u001b[39mshape\n",
      "Cell \u001b[0;32mIn[9], line 39\u001b[0m, in \u001b[0;36mvisulize_3D_rays\u001b[0;34m(poseNumber)\u001b[0m\n\u001b[1;32m     37\u001b[0m \t\tstep \u001b[39m=\u001b[39m \u001b[39m1\u001b[39m\n\u001b[1;32m     38\u001b[0m \t\tray \u001b[39m=\u001b[39m rays[i][j][::step]\n\u001b[0;32m---> 39\u001b[0m \t\tax\u001b[39m.\u001b[39;49mscatter(ray[:, \u001b[39m0\u001b[39;49m], ray[:,\u001b[39m1\u001b[39;49m], ray[:, \u001b[39m2\u001b[39;49m])\n\u001b[1;32m     40\u001b[0m ax\u001b[39m.\u001b[39mset_xlim3d([\u001b[39m-\u001b[39mfar, far])\n\u001b[1;32m     41\u001b[0m ax\u001b[39m.\u001b[39mset_ylim3d([\u001b[39m-\u001b[39mfar, far])\n",
      "File \u001b[0;32m~/.local/lib/python3.11/site-packages/matplotlib/__init__.py:1446\u001b[0m, in \u001b[0;36m_preprocess_data.<locals>.inner\u001b[0;34m(ax, data, *args, **kwargs)\u001b[0m\n\u001b[1;32m   1443\u001b[0m \u001b[39m@functools\u001b[39m\u001b[39m.\u001b[39mwraps(func)\n\u001b[1;32m   1444\u001b[0m \u001b[39mdef\u001b[39;00m \u001b[39minner\u001b[39m(ax, \u001b[39m*\u001b[39margs, data\u001b[39m=\u001b[39m\u001b[39mNone\u001b[39;00m, \u001b[39m*\u001b[39m\u001b[39m*\u001b[39mkwargs):\n\u001b[1;32m   1445\u001b[0m     \u001b[39mif\u001b[39;00m data \u001b[39mis\u001b[39;00m \u001b[39mNone\u001b[39;00m:\n\u001b[0;32m-> 1446\u001b[0m         \u001b[39mreturn\u001b[39;00m func(ax, \u001b[39m*\u001b[39;49m\u001b[39mmap\u001b[39;49m(sanitize_sequence, args), \u001b[39m*\u001b[39;49m\u001b[39m*\u001b[39;49mkwargs)\n\u001b[1;32m   1448\u001b[0m     bound \u001b[39m=\u001b[39m new_sig\u001b[39m.\u001b[39mbind(ax, \u001b[39m*\u001b[39margs, \u001b[39m*\u001b[39m\u001b[39m*\u001b[39mkwargs)\n\u001b[1;32m   1449\u001b[0m     auto_label \u001b[39m=\u001b[39m (bound\u001b[39m.\u001b[39marguments\u001b[39m.\u001b[39mget(label_namer)\n\u001b[1;32m   1450\u001b[0m                   \u001b[39mor\u001b[39;00m bound\u001b[39m.\u001b[39mkwargs\u001b[39m.\u001b[39mget(label_namer))\n",
      "File \u001b[0;32m~/.local/lib/python3.11/site-packages/mpl_toolkits/mplot3d/axes3d.py:2265\u001b[0m, in \u001b[0;36mAxes3D.scatter\u001b[0;34m(self, xs, ys, zs, zdir, s, c, depthshade, *args, **kwargs)\u001b[0m\n\u001b[1;32m   2261\u001b[0m had_data \u001b[39m=\u001b[39m \u001b[39mself\u001b[39m\u001b[39m.\u001b[39mhas_data()\n\u001b[1;32m   2262\u001b[0m zs_orig \u001b[39m=\u001b[39m zs\n\u001b[1;32m   2264\u001b[0m xs, ys, zs \u001b[39m=\u001b[39m np\u001b[39m.\u001b[39mbroadcast_arrays(\n\u001b[0;32m-> 2265\u001b[0m     \u001b[39m*\u001b[39m[np\u001b[39m.\u001b[39;49mravel(np\u001b[39m.\u001b[39;49mma\u001b[39m.\u001b[39;49mfilled(t, np\u001b[39m.\u001b[39;49mnan)) \u001b[39mfor\u001b[39;49;00m t \u001b[39min\u001b[39;49;00m [xs, ys, zs]])\n\u001b[1;32m   2266\u001b[0m s \u001b[39m=\u001b[39m np\u001b[39m.\u001b[39mma\u001b[39m.\u001b[39mravel(s)  \u001b[39m# This doesn't have to match x, y in size.\u001b[39;00m\n\u001b[1;32m   2268\u001b[0m xs, ys, zs, s, c \u001b[39m=\u001b[39m cbook\u001b[39m.\u001b[39mdelete_masked_points(xs, ys, zs, s, c)\n",
      "File \u001b[0;32m~/.local/lib/python3.11/site-packages/mpl_toolkits/mplot3d/axes3d.py:2265\u001b[0m, in \u001b[0;36m<listcomp>\u001b[0;34m(.0)\u001b[0m\n\u001b[1;32m   2261\u001b[0m had_data \u001b[39m=\u001b[39m \u001b[39mself\u001b[39m\u001b[39m.\u001b[39mhas_data()\n\u001b[1;32m   2262\u001b[0m zs_orig \u001b[39m=\u001b[39m zs\n\u001b[1;32m   2264\u001b[0m xs, ys, zs \u001b[39m=\u001b[39m np\u001b[39m.\u001b[39mbroadcast_arrays(\n\u001b[0;32m-> 2265\u001b[0m     \u001b[39m*\u001b[39m[np\u001b[39m.\u001b[39mravel(np\u001b[39m.\u001b[39;49mma\u001b[39m.\u001b[39;49mfilled(t, np\u001b[39m.\u001b[39;49mnan)) \u001b[39mfor\u001b[39;00m t \u001b[39min\u001b[39;00m [xs, ys, zs]])\n\u001b[1;32m   2266\u001b[0m s \u001b[39m=\u001b[39m np\u001b[39m.\u001b[39mma\u001b[39m.\u001b[39mravel(s)  \u001b[39m# This doesn't have to match x, y in size.\u001b[39;00m\n\u001b[1;32m   2268\u001b[0m xs, ys, zs, s, c \u001b[39m=\u001b[39m cbook\u001b[39m.\u001b[39mdelete_masked_points(xs, ys, zs, s, c)\n",
      "File \u001b[0;32m~/.local/lib/python3.11/site-packages/numpy/ma/core.py:641\u001b[0m, in \u001b[0;36mfilled\u001b[0;34m(a, fill_value)\u001b[0m\n\u001b[1;32m    639\u001b[0m     \u001b[39mreturn\u001b[39;00m np\u001b[39m.\u001b[39marray(a, \u001b[39m'\u001b[39m\u001b[39mO\u001b[39m\u001b[39m'\u001b[39m)\n\u001b[1;32m    640\u001b[0m \u001b[39melse\u001b[39;00m:\n\u001b[0;32m--> 641\u001b[0m     \u001b[39mreturn\u001b[39;00m np\u001b[39m.\u001b[39marray(a)\n",
      "File \u001b[0;32m~/.local/lib/python3.11/site-packages/torch/_tensor.py:970\u001b[0m, in \u001b[0;36mTensor.__array__\u001b[0;34m(self, dtype)\u001b[0m\n\u001b[1;32m    968\u001b[0m     \u001b[39mreturn\u001b[39;00m handle_torch_function(Tensor\u001b[39m.\u001b[39m__array__, (\u001b[39mself\u001b[39m,), \u001b[39mself\u001b[39m, dtype\u001b[39m=\u001b[39mdtype)\n\u001b[1;32m    969\u001b[0m \u001b[39mif\u001b[39;00m dtype \u001b[39mis\u001b[39;00m \u001b[39mNone\u001b[39;00m:\n\u001b[0;32m--> 970\u001b[0m     \u001b[39mreturn\u001b[39;00m \u001b[39mself\u001b[39;49m\u001b[39m.\u001b[39;49mnumpy()\n\u001b[1;32m    971\u001b[0m \u001b[39melse\u001b[39;00m:\n\u001b[1;32m    972\u001b[0m     \u001b[39mreturn\u001b[39;00m \u001b[39mself\u001b[39m\u001b[39m.\u001b[39mnumpy()\u001b[39m.\u001b[39mastype(dtype, copy\u001b[39m=\u001b[39m\u001b[39mFalse\u001b[39;00m)\n",
      "\u001b[0;31mTypeError\u001b[0m: can't convert cuda:0 device type tensor to numpy. Use Tensor.cpu() to copy the tensor to host memory first."
     ]
    },
    {
     "data": {
      "image/png": "[encoded data removed]",
      "text/plain": [
       "<Figure size 400x400 with 1 Axes>"
      ]
     },
     "metadata": {},
     "output_type": "display_data"
    }
   ],
   "source": [
    "import matplotlib\n",
    "\n",
    "\n",
    "%matplotlib inline\n",
    "\n",
    "# matplotlib.use('WebAgg')\n",
    "\n",
    "\n",
    "numberOfSamples = 50\n",
    "far = 2\n",
    "distanceBetweenSamples = 2/50\n",
    "\n",
    "def get_rays_with_samples(poseNumber):\n",
    "\tdirs, pos = getRays(width, height, focalLength, poses[poseNumber])\n",
    "\n",
    "\t# dirs = (width, height, 3)\n",
    "\t# t = (numberOfSamples)\n",
    "\t# goal = (width, height, numberOfSamples, 3)\n",
    "\t# where goal[x][y][i] = dirs[x][y] * t[i]\n",
    "\tt = torch.linspace(0, far, numberOfSamples).reshape(1, 1, numberOfSamples, 1)\n",
    "\n",
    "\t# dirs has shape (width, height, 3) right now (a direction for every pixel)\n",
    "\t# We want to instead have a list of numberOfSamples for each pixel, so (width, height, numberOfSamples, 3)\n",
    "\tdirs = dirs.reshape(width, height, 1, 3)\n",
    "\tpos = pos.reshape(width, height, 1, 3)\n",
    "\tz = pos + t*dirs\n",
    "\tz = z.to(device)\n",
    "\treturn z\n",
    "\n",
    "far = 2\n",
    "def visulize_3D_rays(poseNumber):\n",
    "\tfig = plt.figure(figsize=(4,4))\n",
    "\tax = fig.add_subplot(projection='3d')\n",
    "\trays = get_rays_with_samples(poseNumber)\n",
    "\tfor i in range(0, width, 10):\n",
    "\t\tfor j in range(0, height, 10):\n",
    "\t\t\tstep = 1\n",
    "\t\t\tray = rays[i][j][::step]\n",
    "\t\t\tax.scatter(ray[:, 0], ray[:,1], ray[:, 2])\n",
    "\tax.set_xlim3d([-far, far])\n",
    "\tax.set_ylim3d([-far, far])\n",
    "\tax.set_zlim3d([-far, far])\n",
    "\tax.set_autoscale_on(False)\n",
    "\n",
    "\t# plt.savefig(f\"img/{poseNumber}.png\")\n",
    "# for i in range(0, 100):\n",
    "\t# visulize_3D_rays(i)\n",
    "visulize_3D_rays(0)\n",
    "visulize_3D_rays(5)\n",
    "get_rays_with_samples(10).shape\n"
   ]
  },
  {
   "cell_type": "code",
   "execution_count": 72,
   "metadata": {},
   "outputs": [
    {
     "name": "stdout",
     "output_type": "stream",
     "text": [
      "torch.Size([50, 1])\n",
      "tensor([0.3162, 0.3152, 0.3091], device='cuda:0', grad_fn=<SumBackward1>)\n"
     ]
    }
   ],
   "source": [
    "import gc\n",
    "def get_model_at_each_sample_point(rays):\n",
    "\treturn model(rays)\n",
    "    \n",
    "\n",
    "def get_image():\n",
    "\tgc.collect()\n",
    "\ttorch.cuda.empty_cache()\n",
    "\t# current (width, height, numberOfSamples, 4)\n",
    "\trays = get_rays_with_samples(0)\n",
    "\tout = get_model_at_each_sample_point(rays)\n",
    "\t# model_out = (width, height, numberOfSamples, 4), where r is rgb + d\n",
    "\tdeltaI = tensor(distanceBetweenSamples)\n",
    "\n",
    "\tray = out[3][43]\n",
    "\t# This calculated the T_i = exp()\n",
    "\tTi = torch.cumprod(torch.exp(-ray[:, 3]*deltaI), dim = 0)\n",
    "\tTi = Ti.reshape(numberOfSamples, 1)\n",
    "\tprint(Ti.shape)\n",
    "\n",
    "\toneMinus = (1- torch.exp(-ray[:, 3]*deltaI)).reshape((numberOfSamples, 1))\n",
    "\tcolorI = ray[:, 0:3]\n",
    "\tC = torch.sum(Ti*oneMinus * colorI, dim = 0)\n",
    "\tprint(C)\n",
    "\t# print(Ti)\n",
    "\n",
    "\n",
    "\t# goal (width, height, 3)\n",
    "\t# print(deltaI)\n",
    "\n",
    "get_image()\n",
    "\n",
    "# [0][0] = tensor([0.3160, 0.3150, 0.3090]\n",
    "# [25][25] = tensor([0.3161, 0.3151, 0.3091],"
   ]
  },
  {
   "cell_type": "code",
   "execution_count": null,
   "metadata": {},
   "outputs": [],
   "source": []
  },
  {
   "cell_type": "code",
   "execution_count": 14,
   "metadata": {},
   "outputs": [
    {
     "ename": "NameError",
     "evalue": "name 'X' is not defined",
     "output_type": "error",
     "traceback": [
      "\u001b[0;31m---------------------------------------------------------------------------\u001b[0m",
      "\u001b[0;31mNameError\u001b[0m                                 Traceback (most recent call last)",
      "Cell \u001b[0;32mIn[14], line 9\u001b[0m\n\u001b[1;32m      6\u001b[0m \t\toutput \u001b[39m=\u001b[39m output\u001b[39m.\u001b[39mto(\u001b[39m\"\u001b[39m\u001b[39mcpu\u001b[39m\u001b[39m\"\u001b[39m)\n\u001b[1;32m      7\u001b[0m \t\t\u001b[39mreturn\u001b[39;00m output\n\u001b[0;32m----> 9\u001b[0m \u001b[39mprint\u001b[39m(get_image())\n",
      "Cell \u001b[0;32mIn[14], line 4\u001b[0m, in \u001b[0;36mget_image\u001b[0;34m()\u001b[0m\n\u001b[1;32m      1\u001b[0m \u001b[39mdef\u001b[39;00m \u001b[39mget_image\u001b[39m():\n\u001b[1;32m      2\u001b[0m \t\u001b[39mwith\u001b[39;00m torch\u001b[39m.\u001b[39mno_grad():\n\u001b[1;32m      3\u001b[0m \t\t\u001b[39m# output = torch.zeros((size, size, 3))\u001b[39;00m\n\u001b[0;32m----> 4\u001b[0m \t\toutput \u001b[39m=\u001b[39m model(X)\n\u001b[1;32m      5\u001b[0m \t\toutput \u001b[39m=\u001b[39m output\u001b[39m.\u001b[39mreshape(size, size, \u001b[39m3\u001b[39m)\n\u001b[1;32m      6\u001b[0m \t\toutput \u001b[39m=\u001b[39m output\u001b[39m.\u001b[39mto(\u001b[39m\"\u001b[39m\u001b[39mcpu\u001b[39m\u001b[39m\"\u001b[39m)\n",
      "\u001b[0;31mNameError\u001b[0m: name 'X' is not defined"
     ]
    }
   ],
   "source": [
    "def get_image():\n",
    "\twith torch.no_grad():\n",
    "\t\t# output = torch.zeros((size, size, 3))\n",
    "\t\toutput = model(X)\n",
    "\t\toutput = output.reshape(size, size, 3)\n",
    "\t\toutput = output.to(\"cpu\")\n",
    "\t\treturn output\n",
    "\n",
    "print(get_image())"
   ]
  },
  {
   "cell_type": "code",
   "execution_count": null,
   "metadata": {},
   "outputs": [
    {
     "ename": "TypeError",
     "evalue": "range() missing 1 required positional arguments: \"end\"",
     "output_type": "error",
     "traceback": [
      "\u001b[0;31m---------------------------------------------------------------------------\u001b[0m",
      "\u001b[0;31mTypeError\u001b[0m                                 Traceback (most recent call last)",
      "Cell \u001b[0;32mIn[32], line 10\u001b[0m\n\u001b[1;32m      6\u001b[0m \t\t\u001b[39mreturn\u001b[39;00m loss\n\u001b[1;32m      8\u001b[0m optimizer \u001b[39m=\u001b[39m torch\u001b[39m.\u001b[39moptim\u001b[39m.\u001b[39mAdam(model\u001b[39m.\u001b[39mparameters(), lr\u001b[39m=\u001b[39m\u001b[39m0.001\u001b[39m)\n\u001b[0;32m---> 10\u001b[0m pbar \u001b[39m=\u001b[39m tqdm(\u001b[39mrange\u001b[39;49m(epochs))\n\u001b[1;32m     11\u001b[0m \u001b[39m# pbar = range(epochs)\u001b[39;00m\n\u001b[1;32m     13\u001b[0m image_display \u001b[39m=\u001b[39m \u001b[39mNone\u001b[39;00m\n",
      "\u001b[0;31mTypeError\u001b[0m: range() missing 1 required positional arguments: \"end\""
     ]
    }
   ],
   "source": [
    "epochs = 10000\n",
    "from tqdm import tqdm\n",
    "from IPython.display import clear_output\n",
    "def loss_fn(output, target):\n",
    "\t\tloss = torch.mean((output - target)**2)\n",
    "\t\treturn loss\n",
    "\n",
    "optimizer = torch.optim.Adam(model.parameters(), lr=0.001)\n",
    "\n",
    "pbar = tqdm(range(epochs))\n",
    "# pbar = range(epochs)\n",
    "\n",
    "image_display = None\n",
    "\n",
    "fig = plt.figure()\n",
    "ax = fig.gca()\n",
    "for n in pbar:\n",
    "    preds = model(X)\n",
    "    loss = loss_fn(preds, Y)\n",
    "    optimizer.zero_grad()\n",
    "    loss.backward()\n",
    "    optimizer.step()\n",
    "    pbar.set_description( f\"Loss is {loss}\")\n",
    "\n",
    "    if(n % 10 == 0):\n",
    "        clear_output()\n",
    "        image  = get_image()\n",
    "        plt.imshow(image)\n",
    "        # if not image_display:\n",
    "            # image_display = ax.imshow(image)\n",
    "            # image_display = plt.imshow(image)\n",
    "            # plt.show()\n",
    "        # image_display.set_data(image)\n",
    "        plt.show()\n",
    "        # fig.canvas.draw()\n",
    "        # fig.show()\n",
    "        # image_display.draw()\n",
    "\t\t"
   ]
  },
  {
   "cell_type": "code",
   "execution_count": null,
   "metadata": {},
   "outputs": [
    {
     "ename": "NameError",
     "evalue": "name 'X' is not defined",
     "output_type": "error",
     "traceback": [
      "\u001b[0;31m---------------------------------------------------------------------------\u001b[0m",
      "\u001b[0;31mNameError\u001b[0m                                 Traceback (most recent call last)",
      "Cell \u001b[0;32mIn[33], line 1\u001b[0m\n\u001b[0;32m----> 1\u001b[0m image  \u001b[39m=\u001b[39m get_image()\n\u001b[1;32m      2\u001b[0m plt\u001b[39m.\u001b[39mimshow(image)\n",
      "Cell \u001b[0;32mIn[30], line 4\u001b[0m, in \u001b[0;36mget_image\u001b[0;34m()\u001b[0m\n\u001b[1;32m      1\u001b[0m \u001b[39mdef\u001b[39;00m \u001b[39mget_image\u001b[39m():\n\u001b[1;32m      2\u001b[0m \t\u001b[39mwith\u001b[39;00m torch\u001b[39m.\u001b[39mno_grad():\n\u001b[1;32m      3\u001b[0m \t\t\u001b[39m# output = torch.zeros((size, size, 3))\u001b[39;00m\n\u001b[0;32m----> 4\u001b[0m \t\toutput \u001b[39m=\u001b[39m model(X)\n\u001b[1;32m      5\u001b[0m \t\toutput \u001b[39m=\u001b[39m output\u001b[39m.\u001b[39mreshape(size, size, \u001b[39m3\u001b[39m)\n\u001b[1;32m      6\u001b[0m \t\toutput \u001b[39m=\u001b[39m output\u001b[39m.\u001b[39mto(\u001b[39m\"\u001b[39m\u001b[39mcpu\u001b[39m\u001b[39m\"\u001b[39m)\n",
      "\u001b[0;31mNameError\u001b[0m: name 'X' is not defined"
     ]
    }
   ],
   "source": [
    "image  = get_image()\n",
    "plt.imshow(image)"
   ]
  }
 ],
 "metadata": {
  "kernelspec": {
   "display_name": "Python 3.10.8 64-bit",
   "language": "python",
   "name": "python3"
  },
  "language_info": {
   "codemirror_mode": {
    "name": "ipython",
    "version": 3
   },
   "file_extension": ".py",
   "mimetype": "text/x-python",
   "name": "python",
   "nbconvert_exporter": "python",
   "pygments_lexer": "ipython3",
   "version": "3.11.4"
  },
  "orig_nbformat": 4,
  "vscode": {
   "interpreter": {
    "hash": "e7370f93d1d0cde622a1f8e1c04877d8463912d04d973331ad4851f04de6915a"
   }
  }
 },
 "nbformat": 4,
 "nbformat_minor": 2
}
