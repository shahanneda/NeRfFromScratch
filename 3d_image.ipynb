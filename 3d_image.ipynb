{
 "cells": [
  {
   "cell_type": "code",
   "execution_count": 2,
   "metadata": {
    "tags": []
   },
   "outputs": [],
   "source": [
    "import torch\n",
    "import pandas as pd\n",
    "import numpy as np\n",
    "import matplotlib.pyplot as plt\n",
    "from mpl_toolkits.mplot3d import Axes3D \n",
    "import torch.nn as nn\n",
    "from torch import tensor\n",
    "device = torch.device(\"cuda:0\" if torch.cuda.is_available() else \"cpu\")"
   ]
  },
  {
   "cell_type": "code",
   "execution_count": null,
   "metadata": {},
   "outputs": [],
   "source": []
  },
  {
   "cell_type": "code",
   "execution_count": 3,
   "metadata": {
    "tags": []
   },
   "outputs": [
    {
     "name": "stdout",
     "output_type": "stream",
     "text": [
      "NpzFile 'tiny_nerf_data.npz' with keys: images, poses, focal\n",
      "torch.Size([106, 100, 100, 3])\n",
      "torch.Size([106, 4, 4])\n"
     ]
    }
   ],
   "source": [
    "data = np.load('tiny_nerf_data.npz')\n",
    "images = torch.tensor(data['images'])\n",
    "poses = torch.tensor(data['poses'])\n",
    "focalLength = data['focal']\n",
    "print(data)\n",
    "\n",
    "poses[12]\n",
    "print(images.shape)\n",
    "print(poses.shape)\n",
    "\n",
    "width = images.shape[1]\n",
    "height = images.shape[2]\n",
    "# plt.imshow(images[10])\n",
    "# for i in range(0, 100):\n",
    "#     plt.imsave(f\"im2/image{i}.png\", images[i])\n",
    "# poses[1]"
   ]
  },
  {
   "cell_type": "code",
   "execution_count": 4,
   "metadata": {
    "tags": []
   },
   "outputs": [],
   "source": [
    "\n",
    "from Model import NeRfModel\n",
    "\n",
    "numberOfFor = 6\n",
    "model  = NeRfModel(numberOfFor).to(device)"
   ]
  },
  {
   "cell_type": "code",
   "execution_count": 5,
   "metadata": {
    "tags": []
   },
   "outputs": [],
   "source": [
    "# %matplotlib widget\n",
    "\n",
    "%matplotlib inline"
   ]
  },
  {
   "cell_type": "code",
   "execution_count": 31,
   "metadata": {
    "tags": []
   },
   "outputs": [],
   "source": [
    "# returns a two tensors, one with shape [width, height, 3] \n",
    "# representing the direction of a ray going through each pixel and another [width, height, 3] \n",
    "# representing the starting position of that same ray (all of which are the same) since \n",
    "# all rays start out at the origin\n",
    "def getRays(width, height, focalLength, pose):\n",
    "    xCoords = torch.arange(width)\n",
    "    yCoords = torch.arange(height)\n",
    "    x, y = torch.meshgrid(xCoords, yCoords)\n",
    "    xShifted = (x - width*0.5)/focalLength # x coords in a [width, height] tensor\n",
    "    yShifted = (y - height*0.5)/focalLength # y coords in a [width, height] tensor\n",
    "\n",
    "    z = torch.ones_like(x)  # z coords in a [width, height] tensor\n",
    "\n",
    "    # match up each element of the 3 tensors (thats why using dim = 2)\n",
    "    directionVectors = torch.stack((xShifted, -yShifted, -z), dim=2).to(device)\n",
    "    rotationMatrix = pose[0:3, 0:3]\n",
    "    print(directionVectors[0][0])\n",
    "    print(rotationMatrix)\n",
    "    # Confustion: I'm not sure why the following line doesn't work\n",
    "    # rotatedDirections = torch.matmul(directionVectors, rotationMatrix)\n",
    "    # The paper does it the following way and that seems to give the excepcted reuslts\n",
    "    rotatedDirections = torch.sum(directionVectors.unsqueeze(2)*rotationMatrix, dim=-1)\n",
    "\n",
    "\n",
    "    origin =  pose[:3, 3]\n",
    "\n",
    "    # all the rays have the same origin\n",
    "    originTensor =  torch.broadcast_to(origin, rotatedDirections.shape)\n",
    "    return rotatedDirections, originTensor\n",
    "\n",
    "\n",
    "\n",
    "# dirs, pos = getRaysInBatch(width, height, focalLength, poses[0:5].to(device))\n",
    "# dirs, pos = getRays(width, height, focalLength, poses[46].to(device))\n",
    "# print(dirs[0][0])\n",
    "# print(pos[0][0])\n",
    "# print(dirs.shape, pos.shape)\n",
    "# print(dirs[0][0], pos[0][0])\n"
   ]
  },
  {
   "cell_type": "code",
   "execution_count": 7,
   "metadata": {},
   "outputs": [],
   "source": [
    "\n",
    "# # def getRaysInBatch(width, height, focalLength, poses):\n",
    "#     xCoords = torch.arange(width)\n",
    "#     yCoords = torch.arange(height)\n",
    "#     x, y = torch.meshgrid(xCoords, yCoords)\n",
    "\n",
    "#     xShifted = (x - width*0.5)/focalLength # x coords in a [width, height] tensor\n",
    "\n",
    "#     yShifted = (y - height*0.5)/focalLength # y coords in a [width, height] tensor\n",
    "\n",
    "#     z = torch.ones_like(x)  # z coords in a [width, height] tensor\n",
    "\n",
    "#     # match up each element of the 3 tensors (thats why using dim = 2)\n",
    "#     directionVectors = torch.stack((xShifted, yShifted, z), dim=2).unsqueeze(0).to(device)\n",
    "#     rotationMatrix = poses[:, 0:3, 0:3] # hase shape (batchSize, 3, 3)\n",
    "\n",
    "#     # have a bunch of directionVectors, shaped (width, height, 3)\n",
    "#     # have a bunch of rotationMatricies, shaped (batchSize, 3, 3)\n",
    "#     # goal is to have a tensor t shaped (batchSize, width, height,  3)\n",
    "#     # where t[i][x][y] = rotationMatrix[i]@directionVecotors[x][y]\n",
    "\n",
    "#     # flatten the direction vectors to (1, width*height, 3)\n",
    "#     directionVectors = directionVectors.view(width*height, 3).unsqueeze(0)\n",
    "\n",
    "#     # print(directionVectors.shape)\n",
    "\n",
    "#     print(directionVectors.shape)\n",
    "#     print(rotationMatrix.shape)\n",
    "\n",
    "#     # rotationMatrix has shape (batchSize, 3, 3)\n",
    "#     rotatedDirections = torch.matmul(rotationMatrix, directionVectors)\n",
    "#     print(rotatedDirections.shape)\n",
    "\n",
    "#     # Goal: [5, 100, 100, 3]\n",
    "\n",
    "#     origin =  poses[:, :3, 2]\n",
    "#     # all the rays have the same origin\n",
    "#     originTensor =  torch.broadcast_to(origin, rotatedDirections.shape)\n",
    "#     return rotatedDirections, originTensor"
   ]
  },
  {
   "cell_type": "code",
   "execution_count": 32,
   "metadata": {
    "tags": []
   },
   "outputs": [],
   "source": [
    "import matplotlib\n",
    "\n",
    "\n",
    "%matplotlib inline\n",
    "\n",
    "# matplotlib.use('WebAgg')\n",
    "\n",
    "\n",
    "numberOfSamples = 25\n",
    "far = 10\n",
    "distanceBetweenSamples = far / numberOfSamples\n",
    "\n",
    "def get_rays_with_samples(pose):\n",
    "  dirs, pos = getRays(width, height, focalLength, pose)\n",
    "\n",
    "  # dirs = (width, height, 3)\n",
    "  # t = (numberOfSamples)\n",
    "  # goal = (width, height, numberOfSamples, 3)\n",
    "  # where goal[x][y][i] = dirs[x][y] * t[i]\n",
    "  t = torch.linspace(0, far, numberOfSamples).reshape(1, 1, numberOfSamples, 1).to(device)\n",
    "  # print(t)\n",
    "\n",
    "  # dirs has shape (width, height, 3) right now (a direction for every pixel)\n",
    "  # We want to instead have a list of numberOfSamples for each pixel, so (width, height, numberOfSamples, 3)\n",
    "  dirs = dirs.reshape(width, height, 1, 3)\n",
    "  pos = pos.reshape(width, height, 1, 3)\n",
    "  print(dirs[0][0])\n",
    "#   print(pos.shape)\n",
    "#   print(dirs.shape)\n",
    "#   print(t.shape)\n",
    "  z = t*dirs\n",
    "  z = z.to(device)\n",
    "#   print(z.shape)\n",
    "#   print(z[0][0])\n",
    "  return z\n",
    "\n",
    "# far = 2\n",
    "def visulize_3D_rays(index, poseNumber):\n",
    "    fig = plt.figure(figsize=(8,16))\n",
    "    # fig, axes = plt.subplots(nrows=1, ncols=2)\n",
    "    ax = fig.add_subplot(1, 2, 1, projection=\"3d\")\n",
    "    # axes[0].proje\n",
    "    # f, axisArr = fig.subplots(2, 2)\n",
    "    # f, axarr = plt.subplots(2,2)\n",
    "    # print(axes)\n",
    "    rays = get_rays_with_samples(poseNumber)\n",
    "    with torch.no_grad():\n",
    "        rays = rays.cpu()\n",
    "        for i in range(0, width, 10):\n",
    "            for j in range(0, height, 10):\n",
    "                step = 1\n",
    "                ray = rays[i][j][::step]\n",
    "                ax.scatter(ray[:, 0], ray[:,1], ray[:, 2])\n",
    "        ax.set_xlim3d([-far, far])\n",
    "        ax.set_ylim3d([-far, far])\n",
    "        ax.set_zlim3d([-far, far])\n",
    "        ax.set_autoscale_on(False)\n",
    "    ax2 = fig.add_subplot(1, 2, 2)\n",
    "    ax2.imshow(images[index])\n",
    "    # plt.savefig(f\"./im1/{index}.png\")\n",
    "    # plt.close()\n",
    "# visulize_3D_rays(8, poses[8].to(device))\n",
    "# for i in range(0, 100):\n",
    "#   visulize_3D_rays(i, poses[i].to(device))\n",
    "# print(poses[46])\n",
    "# print(poses[50])\n",
    "# visulize_3D_rays(46, poses[46].to(device))\n",
    "# visulize_3D_rays(50, poses[50].to(device))\n",
    "# visulize_3D_rays(7, poses[7].to(device))\n",
    "# # print(poses[20])\n",
    "# get_rays_with_samples(poses[0].to(device)).shape\n"
   ]
  },
  {
   "cell_type": "code",
   "execution_count": 9,
   "metadata": {
    "tags": []
   },
   "outputs": [
    {
     "name": "stdout",
     "output_type": "stream",
     "text": [
      "tensor([ 0.3748, -1.0568,  0.0438], device='cuda:0')\n",
      "tensor([[ 0.3748, -1.0568,  0.0438]], device='cuda:0')\n"
     ]
    }
   ],
   "source": [
    "import gc\n",
    "import math\n",
    "def get_model_at_each_sample_point(rays):\n",
    "    #rays is (width, height, numberOfSampels, 3), we want to turn the 3 into 15 by appling foruir feature vectors\n",
    "    raysBackup = torch.clone(rays)\n",
    "    rays = rays.reshape(width, height, numberOfSamples, 1, 3, 1).expand(width, height, numberOfSamples, 2, 3, 1)\n",
    "    twos = torch.tensor(2).repeat(width, height, numberOfSamples, 2, 3, numberOfFor) # 2 since one for sin one for cos\n",
    "    twos[:, :, :, :, 0] = 1\n",
    "    twos = torch.cumprod(twos, dim=4).to(device)\n",
    "\n",
    "    # Twos is a (3, numberOfFor+, 21) shaped where each row is [1, 2, 4, 8, ...]\n",
    "    encoding = rays*math.pi*twos\n",
    "    encoding[:, :, :, 0] = torch.sin(encoding[:, :, :, 0])\n",
    "    encoding[:, :, :, 1] = torch.cos(encoding[:, :, :, 1])\n",
    "    encoding = torch.flatten(encoding, start_dim=3, end_dim=5)\n",
    "\n",
    "    # add non fourer as well (rays backup is just the normal xyz coords)\n",
    "    encoding = torch.concat((raysBackup, encoding), dim=3)\n",
    "\n",
    "    return model(encoding)\n",
    "    \n",
    "\n",
    "def get_image(pose):\n",
    "  # gc.collect()\n",
    "  # torch.cuda.empty_cache()\n",
    "  rays = get_rays_with_samples(pose)\n",
    "  return get_image_with_rays(rays)\n",
    "\n",
    "def get_image_with_rays(rays):\n",
    "  # current (width, height, numberOfSamples, 4)\n",
    "  out = get_model_at_each_sample_point(rays)\n",
    "  # model_out = (width, height, numberOfSamples, 4), where r is rgb + d\n",
    "  deltaI = tensor(distanceBetweenSamples)\n",
    "\n",
    "  # Goes from out = (width,height, numberOfSamples, 4) to C = (width, height, 3)\n",
    "\n",
    "  # The first two dimenstions are width and height\n",
    "  Ti = torch.cumprod(torch.exp(-out[:, : , :, 3]*deltaI), dim = 2)\n",
    "  Ti = Ti.reshape(width, height, numberOfSamples, 1)\n",
    "\n",
    "  aboservedAmounts = (1- torch.exp(-out[:, :, :, 3]*deltaI)).reshape((width, height, numberOfSamples, 1))\n",
    "  colorI = out[:, :, :, 0:3]\n",
    "\n",
    "  # Sum along the ray (the first two dimenensions are the width and height)\n",
    "  C = torch.sum(Ti*aboservedAmounts * colorI, dim = 2)\n",
    "  return C\n",
    "\n",
    "# get_image()\n",
    "def f():\n",
    "  with torch.no_grad():\n",
    "    get_image(poses[0].to(device))\n",
    "f()"
   ]
  },
  {
   "cell_type": "code",
   "execution_count": 10,
   "metadata": {
    "tags": []
   },
   "outputs": [
    {
     "name": "stdout",
     "output_type": "stream",
     "text": [
      "tensor([ 0.7933,  0.7935, -0.0128], device='cuda:0')\n",
      "tensor([[ 0.7933,  0.7935, -0.0128]], device='cuda:0')\n"
     ]
    },
    {
     "name": "stderr",
     "output_type": "stream",
     "text": [
      "Clipping input data to the valid range for imshow with RGB data ([0..1] for floats or [0..255] for integers).\n"
     ]
    },
    {
     "data": {
      "image/png": "[encoded data removed]",
      "text/plain": [
       "<Figure size 640x480 with 1 Axes>"
      ]
     },
     "metadata": {},
     "output_type": "display_data"
    }
   ],
   "source": [
    "with torch.no_grad():\n",
    "        pose = poses[2].to(device)\n",
    "        im = get_image(pose).cpu()\n",
    "        plt.imshow(im)"
   ]
  },
  {
   "cell_type": "code",
   "execution_count": 11,
   "metadata": {},
   "outputs": [],
   "source": [
    "from torch.utils.data import Dataset, DataLoader\n",
    "\n",
    "class NerfDataSet(Dataset):\n",
    "\tdef __init__(self, poses, images):\n",
    "\t\tassert(len(poses) == len(images))\n",
    "\n",
    "\t\tself.poses = poses\n",
    "\t\tself.images = images\n",
    "\n",
    "\tdef __len__(self) -> int:\n",
    "\t\treturn len(self.poses)\n",
    "\n",
    "\tdef __getitem__(self, index):\n",
    "\t\treturn self.poses[index], self.images[index]\n",
    "\n",
    "dataSet = NerfDataSet(poses[0:10], images[0:10])\n",
    "dataLoader = DataLoader(dataset=dataSet, batch_size=4, shuffle=True )"
   ]
  },
  {
   "cell_type": "code",
   "execution_count": 12,
   "metadata": {
    "tags": []
   },
   "outputs": [
    {
     "name": "stderr",
     "output_type": "stream",
     "text": [
      "  0%|          | 0/10000 [00:00<?, ?it/s]"
     ]
    },
    {
     "name": "stdout",
     "output_type": "stream",
     "text": [
      "tensor([ 1.0080,  0.2391, -0.4313], device='cuda:0')\n",
      "tensor([[ 1.0080,  0.2391, -0.4313]], device='cuda:0')\n",
      "tensor([ 0.3748, -1.0568,  0.0438], device='cuda:0')\n",
      "tensor([[ 0.3748, -1.0568,  0.0438]], device='cuda:0')\n"
     ]
    },
    {
     "name": "stderr",
     "output_type": "stream",
     "text": [
      "  0%|          | 0/10000 [00:00<?, ?it/s]\n"
     ]
    },
    {
     "ename": "OutOfMemoryError",
     "evalue": "CUDA out of memory. Tried to allocate 382.00 MiB (GPU 0; 3.81 GiB total capacity; 3.15 GiB already allocated; 199.44 MiB free; 3.51 GiB reserved in total by PyTorch) If reserved memory is >> allocated memory try setting max_split_size_mb to avoid fragmentation.  See documentation for Memory Management and PYTORCH_CUDA_ALLOC_CONF",
     "output_type": "error",
     "traceback": [
      "\u001b[0;31m---------------------------------------------------------------------------\u001b[0m",
      "\u001b[0;31mOutOfMemoryError\u001b[0m                          Traceback (most recent call last)",
      "Cell \u001b[0;32mIn[12], line 45\u001b[0m\n\u001b[1;32m     39\u001b[0m \u001b[39m# if pose not in poseToRays:\u001b[39;00m\n\u001b[1;32m     40\u001b[0m \u001b[39m#     pose = pose.to(device)\u001b[39;00m\n\u001b[1;32m     41\u001b[0m     \u001b[39m# poseToRays[pose] = get_rays_with_samples(pose)\u001b[39;00m\n\u001b[1;32m     42\u001b[0m \n\u001b[1;32m     43\u001b[0m \u001b[39m# rays = poseToRays[pose]\u001b[39;00m\n\u001b[1;32m     44\u001b[0m rays \u001b[39m=\u001b[39m get_rays_with_samples(pose)\n\u001b[0;32m---> 45\u001b[0m pred_image \u001b[39m=\u001b[39m get_image_with_rays(rays)\n\u001b[1;32m     47\u001b[0m image \u001b[39m=\u001b[39m image\u001b[39m.\u001b[39mto(device)\n\u001b[1;32m     48\u001b[0m loss \u001b[39m+\u001b[39m\u001b[39m=\u001b[39m loss_fn(pred_image, image)\n",
      "Cell \u001b[0;32mIn[9], line 31\u001b[0m, in \u001b[0;36mget_image_with_rays\u001b[0;34m(rays)\u001b[0m\n\u001b[1;32m     29\u001b[0m \u001b[39mdef\u001b[39;00m \u001b[39mget_image_with_rays\u001b[39m(rays):\n\u001b[1;32m     30\u001b[0m   \u001b[39m# current (width, height, numberOfSamples, 4)\u001b[39;00m\n\u001b[0;32m---> 31\u001b[0m   out \u001b[39m=\u001b[39m get_model_at_each_sample_point(rays)\n\u001b[1;32m     32\u001b[0m   \u001b[39m# model_out = (width, height, numberOfSamples, 4), where r is rgb + d\u001b[39;00m\n\u001b[1;32m     33\u001b[0m   deltaI \u001b[39m=\u001b[39m tensor(distanceBetweenSamples)\n",
      "Cell \u001b[0;32mIn[9], line 20\u001b[0m, in \u001b[0;36mget_model_at_each_sample_point\u001b[0;34m(rays)\u001b[0m\n\u001b[1;32m     17\u001b[0m \u001b[39m# add non fourer as well (rays backup is just the normal xyz coords)\u001b[39;00m\n\u001b[1;32m     18\u001b[0m encoding \u001b[39m=\u001b[39m torch\u001b[39m.\u001b[39mconcat((raysBackup, encoding), dim\u001b[39m=\u001b[39m\u001b[39m3\u001b[39m)\n\u001b[0;32m---> 20\u001b[0m \u001b[39mreturn\u001b[39;00m model(encoding)\n",
      "File \u001b[0;32m~/.local/lib/python3.11/site-packages/torch/nn/modules/module.py:1501\u001b[0m, in \u001b[0;36mModule._call_impl\u001b[0;34m(self, *args, **kwargs)\u001b[0m\n\u001b[1;32m   1496\u001b[0m \u001b[39m# If we don't have any hooks, we want to skip the rest of the logic in\u001b[39;00m\n\u001b[1;32m   1497\u001b[0m \u001b[39m# this function, and just call forward.\u001b[39;00m\n\u001b[1;32m   1498\u001b[0m \u001b[39mif\u001b[39;00m \u001b[39mnot\u001b[39;00m (\u001b[39mself\u001b[39m\u001b[39m.\u001b[39m_backward_hooks \u001b[39mor\u001b[39;00m \u001b[39mself\u001b[39m\u001b[39m.\u001b[39m_backward_pre_hooks \u001b[39mor\u001b[39;00m \u001b[39mself\u001b[39m\u001b[39m.\u001b[39m_forward_hooks \u001b[39mor\u001b[39;00m \u001b[39mself\u001b[39m\u001b[39m.\u001b[39m_forward_pre_hooks\n\u001b[1;32m   1499\u001b[0m         \u001b[39mor\u001b[39;00m _global_backward_pre_hooks \u001b[39mor\u001b[39;00m _global_backward_hooks\n\u001b[1;32m   1500\u001b[0m         \u001b[39mor\u001b[39;00m _global_forward_hooks \u001b[39mor\u001b[39;00m _global_forward_pre_hooks):\n\u001b[0;32m-> 1501\u001b[0m     \u001b[39mreturn\u001b[39;00m forward_call(\u001b[39m*\u001b[39;49margs, \u001b[39m*\u001b[39;49m\u001b[39m*\u001b[39;49mkwargs)\n\u001b[1;32m   1502\u001b[0m \u001b[39m# Do not call functions when jit is used\u001b[39;00m\n\u001b[1;32m   1503\u001b[0m full_backward_hooks, non_full_backward_hooks \u001b[39m=\u001b[39m [], []\n",
      "File \u001b[0;32m~/Documents/projects/NeRfFromScratch/Model.py:24\u001b[0m, in \u001b[0;36mNeRfModel.forward\u001b[0;34m(self, x)\u001b[0m\n\u001b[1;32m     22\u001b[0m x \u001b[39m=\u001b[39m nn\u001b[39m.\u001b[39mfunctional\u001b[39m.\u001b[39mrelu(\u001b[39mself\u001b[39m\u001b[39m.\u001b[39mlayer2(x))\n\u001b[1;32m     23\u001b[0m x \u001b[39m=\u001b[39m nn\u001b[39m.\u001b[39mfunctional\u001b[39m.\u001b[39mrelu(\u001b[39mself\u001b[39m\u001b[39m.\u001b[39mlayer3(x))\n\u001b[0;32m---> 24\u001b[0m x \u001b[39m=\u001b[39m nn\u001b[39m.\u001b[39;49mfunctional\u001b[39m.\u001b[39;49mrelu(\u001b[39mself\u001b[39;49m\u001b[39m.\u001b[39;49mlayer4(x))\n\u001b[1;32m     26\u001b[0m rgb \u001b[39m=\u001b[39m torch\u001b[39m.\u001b[39msigmoid(\u001b[39mself\u001b[39m\u001b[39m.\u001b[39mrgb_layer(x))\n\u001b[1;32m     27\u001b[0m radiance \u001b[39m=\u001b[39m \u001b[39mself\u001b[39m\u001b[39m.\u001b[39mradiance_layer(x)\n",
      "File \u001b[0;32m~/.local/lib/python3.11/site-packages/torch/nn/functional.py:1457\u001b[0m, in \u001b[0;36mrelu\u001b[0;34m(input, inplace)\u001b[0m\n\u001b[1;32m   1455\u001b[0m     result \u001b[39m=\u001b[39m torch\u001b[39m.\u001b[39mrelu_(\u001b[39minput\u001b[39m)\n\u001b[1;32m   1456\u001b[0m \u001b[39melse\u001b[39;00m:\n\u001b[0;32m-> 1457\u001b[0m     result \u001b[39m=\u001b[39m torch\u001b[39m.\u001b[39;49mrelu(\u001b[39minput\u001b[39;49m)\n\u001b[1;32m   1458\u001b[0m \u001b[39mreturn\u001b[39;00m result\n",
      "\u001b[0;31mOutOfMemoryError\u001b[0m: CUDA out of memory. Tried to allocate 382.00 MiB (GPU 0; 3.81 GiB total capacity; 3.15 GiB already allocated; 199.44 MiB free; 3.51 GiB reserved in total by PyTorch) If reserved memory is >> allocated memory try setting max_split_size_mb to avoid fragmentation.  See documentation for Memory Management and PYTORCH_CUDA_ALLOC_CONF"
     ]
    },
    {
     "data": {
      "image/png": "[encoded data removed]",
      "text/plain": [
       "<Figure size 640x480 with 1 Axes>"
      ]
     },
     "metadata": {},
     "output_type": "display_data"
    }
   ],
   "source": [
    "epochs = 10000\n",
    "from tqdm import tqdm\n",
    "from IPython.display import clear_output\n",
    "def loss_fn(output, target):\n",
    "\t\tloss = torch.mean((output - target)**2)\n",
    "\t\treturn loss\n",
    "\n",
    "optimizer = torch.optim.Adam(model.parameters(), lr=0.001)\n",
    "\n",
    "pbar = tqdm(range(epochs))\n",
    "# pbar = range(epochs)\n",
    "\n",
    "image_display = None\n",
    "\n",
    "fig = plt.figure()\n",
    "ax = fig.gca()\n",
    "i = 0\n",
    "loss = 0\n",
    "\n",
    "\n",
    "pose = poses[3]\n",
    "# image = images[3]\n",
    "# pose = pose.to(device)\n",
    "# rays = get_rays_with_samples(pose)\n",
    "\n",
    "torch.cuda.empty_cache()\n",
    "poseToRays = {}\n",
    "torch.cuda.empty_cache()\n",
    "\n",
    "for epoch in pbar: \n",
    "    epoch_loss = 0\n",
    "    torch.cuda.empty_cache()\n",
    "\n",
    "    for (pose_batch, image_batch) in dataLoader:\n",
    "        pose_batch = pose_batch.to(device)\n",
    "        image_batch = image_batch.to(device)\n",
    "        for (pose, image) in zip(pose_batch, image_batch):\n",
    "            i += 1\n",
    "            # if pose not in poseToRays:\n",
    "            #     pose = pose.to(device)\n",
    "                # poseToRays[pose] = get_rays_with_samples(pose)\n",
    "\n",
    "            # rays = poseToRays[pose]\n",
    "            rays = get_rays_with_samples(pose)\n",
    "            pred_image = get_image_with_rays(rays)\n",
    "\n",
    "            image = image.to(device)\n",
    "            loss += loss_fn(pred_image, image)\n",
    "            epoch_loss += loss.item()\n",
    "\n",
    "        optimizer.zero_grad()\n",
    "        loss.backward()\n",
    "        optimizer.step()\n",
    "        # pbar.set_description( f\"{i}: Loss is {loss}\")\n",
    "        loss = 0\n",
    "\n",
    "        if(i % 200 == 0):\n",
    "        # if(False):\n",
    "            # print(\"displaying\")\n",
    "            with torch.no_grad():\n",
    "                clear_output()\n",
    "                plt.close()\n",
    "\n",
    "                f, axarr = plt.subplots(1,2)\n",
    "                axarr[0].imshow(pred_image.cpu())\n",
    "                axarr[1].imshow(image.cpu())\n",
    "                plt.show()\n",
    "\n",
    "    pbar.set_description(f\"Epoch [{epoch+1}/{epochs}], Loss: {epoch_loss}\")\n",
    "    # torch.save(model.state_dict(), \"./fixedModel.pkl\")\n",
    "    \n",
    "    if( i >= 2000):\n",
    "        i = 0\n",
    "        \n",
    "\n"
   ]
  },
  {
   "cell_type": "code",
   "execution_count": null,
   "metadata": {},
   "outputs": [],
   "source": [
    "# torch.save(model.state_dict(), \"./basic_model.pkl\")"
   ]
  },
  {
   "cell_type": "code",
   "execution_count": null,
   "metadata": {},
   "outputs": [
    {
     "data": {
      "text/plain": [
       "<All keys matched successfully>"
      ]
     },
     "execution_count": 200,
     "metadata": {},
     "output_type": "execute_result"
    }
   ],
   "source": [
    "model.load_state_dict(torch.load(\"./model.pkl\"))\n"
   ]
  },
  {
   "cell_type": "code",
   "execution_count": null,
   "metadata": {},
   "outputs": [],
   "source": [
    "print(torch.max(poses[:,b:, 3]))"
   ]
  },
  {
   "cell_type": "code",
   "execution_count": null,
   "metadata": {
    "tags": []
   },
   "outputs": [
    {
     "name": "stdout",
     "output_type": "stream",
     "text": [
      "tensor([[ 0.9045,  0.4252, -0.0322, -0.1198],\n",
      "        [-0.4265,  0.9019, -0.0683, -0.2753],\n",
      "        [ 0.0000,  0.0755,  0.9971,  1.9296],\n",
      "        [ 0.0000,  0.0000,  0.0000,  1.0000]])\n"
     ]
    },
    {
     "data": {
      "application/vnd.jupyter.widget-view+json": {
       "model_id": "109bd06b1ce04763b42568997c1542e6",
       "version_major": 2,
       "version_minor": 0
      },
      "text/plain": [
       "FloatSlider(value=0.009999999999999787, continuous_update=False, description='x', max=5.0, min=-5.0, step=0.01…"
      ]
     },
     "metadata": {},
     "output_type": "display_data"
    },
    {
     "data": {
      "application/vnd.jupyter.widget-view+json": {
       "model_id": "90c1ef3dfd4d413da07a1c99795b2c6c",
       "version_major": 2,
       "version_minor": 0
      },
      "text/plain": [
       "FloatSlider(value=0.0, continuous_update=False, description='y', max=5.0, min=-5.0, step=0.01)"
      ]
     },
     "metadata": {},
     "output_type": "display_data"
    },
    {
     "data": {
      "application/vnd.jupyter.widget-view+json": {
       "model_id": "cdc1647cc90247eaa58760bd58d94c17",
       "version_major": 2,
       "version_minor": 0
      },
      "text/plain": [
       "FloatSlider(value=-2.09, continuous_update=False, description='z', max=5.0, min=-5.0, step=0.01)"
      ]
     },
     "metadata": {},
     "output_type": "display_data"
    },
    {
     "data": {
      "application/vnd.jupyter.widget-view+json": {
       "model_id": "9e8f235c50664dbb8d5c49aab85fe715",
       "version_major": 2,
       "version_minor": 0
      },
      "text/plain": [
       "FloatSlider(value=0.0, continuous_update=False, description='xrot', max=360.0, step=1.0)"
      ]
     },
     "metadata": {},
     "output_type": "display_data"
    },
    {
     "data": {
      "application/vnd.jupyter.widget-view+json": {
       "model_id": "9d19bd73aa174ab3b0042f19dd9b3993",
       "version_major": 2,
       "version_minor": 0
      },
      "text/plain": [
       "FloatSlider(value=0.0, continuous_update=False, description='yrot', max=360.0, step=1.0)"
      ]
     },
     "metadata": {},
     "output_type": "display_data"
    },
    {
     "data": {
      "application/vnd.jupyter.widget-view+json": {
       "model_id": "f58dcf3db80a43018a046f9d7e0b9de6",
       "version_major": 2,
       "version_minor": 0
      },
      "text/plain": [
       "FloatSlider(value=0.0, continuous_update=False, description='zrot', max=360.0, step=1.0)"
      ]
     },
     "metadata": {},
     "output_type": "display_data"
    },
    {
     "data": {
      "application/vnd.jupyter.widget-view+json": {
       "model_id": "fddc08b168654270b184a1967120a019",
       "version_major": 2,
       "version_minor": 0
      },
      "text/plain": [
       "Button(description='Update', style=ButtonStyle())"
      ]
     },
     "metadata": {},
     "output_type": "display_data"
    },
    {
     "data": {
      "image/png": "[encoded data removed]",
      "text/plain": [
       "<Figure size 640x480 with 1 Axes>"
      ]
     },
     "metadata": {},
     "output_type": "display_data"
    }
   ],
   "source": [
    "from ipywidgets import interactive, widgets\n",
    "from IPython.display import display\n",
    "\n",
    "\n",
    "def translation(x, y, z):\n",
    "    return tensor([\n",
    "              [1, 0 ,0, x],\n",
    "              [0, 1, 0, y],\n",
    "              [0, 0, 1, z],\n",
    "              [0, 0, 0, 1]\n",
    "              ], dtype=torch.float)\n",
    "\n",
    "def xRotation(theta):\n",
    "    return tensor(\n",
    "        [\n",
    "              [1, 0 ,0, 0],\n",
    "              [0, math.cos(theta), -math.sin(theta), 0],\n",
    "              [0, math.sin(theta), math.cos(theta), 0],\n",
    "              [0, 0, 0, 1]\n",
    "        ]\n",
    "    )\n",
    "\n",
    "def yRotation(theta):\n",
    "    return tensor(\n",
    "        [\n",
    "              [math.cos(theta), 0 ,math.sin(theta), 0],\n",
    "              [0, 1, 0, 0],\n",
    "              [-math.sin(theta), 0, math.cos(theta), 0],\n",
    "              [0, 0, 0, 1]\n",
    "        ]\n",
    "    )\n",
    "\n",
    "def zRotation(theta):\n",
    "    return tensor(\n",
    "        [\n",
    "              [math.cos(theta), -math.sin(theta) ,0, 0],\n",
    "              [math.sin(theta), math.cos(theta), 0, 0],\n",
    "              [0, 0, 1, 0],\n",
    "              [0, 0, 0, 1]\n",
    "        ]\n",
    "    )\n",
    "\n",
    "def getPoseFromCoords(x, y, z, xrot, yrot, zrot):\n",
    "    toRad = lambda x : x * 2 * math.pi / 360\n",
    "    pose = translation(x, y, z)\n",
    "    pose = torch.matmul(xRotation(toRad(xrot)), pose)\n",
    "    pose = torch.matmul(yRotation(toRad(yrot)), pose)\n",
    "    pose = torch.matmul(zRotation(toRad(zrot)), pose)\n",
    "\n",
    "\n",
    "    pose = tensor([[ 0.9045,  0.4252, -0.0322, -0.1298 + x],\n",
    "        [-0.4265,  0.9019, -0.0683, -0.2753 + y],\n",
    "        [ 0.0000,  0.0755,  0.9971,  4.0196 + z],\n",
    "        [ 0.0000,  0.0000,  0.0000,  1.0000]]);\n",
    "    return pose\n",
    "\n",
    "sliderNames = [\"x\", \"y\", \"z\", \"xrot\", \"yrot\", \"zrot\"]\n",
    "sliders = {}\n",
    "for sliderName in sliderNames:\n",
    "    rot = False\n",
    "    if \"rot\" in sliderName:\n",
    "        rot = True\n",
    "\n",
    "    slider = widgets.FloatSlider(\n",
    "        value=0,\n",
    "        min= 0 if rot else -5,\n",
    "        max=360 if rot else 5.0 ,\n",
    "        step=1 if rot else 0.01,\n",
    "        description=sliderName,\n",
    "        disabled=False,\n",
    "        continuous_update=False,\n",
    "        orientation='horizontal',\n",
    "        readout=True,\n",
    "        readout_format='.2f',\n",
    "    )\n",
    "    sliders[sliderName] = slider\n",
    "\n",
    "allSliders = sliders.values()\n",
    "\n",
    "button = widgets.Button(description=\"Update\")\n",
    "\n",
    "def on_button_clicked(_):\n",
    "    pose = getPoseFromCoords(*[sliders[sliderName].value for sliderName in sliderNames])\n",
    "    with torch.no_grad():\n",
    "        image  = get_image(pose.to(device))\n",
    "        image = torch.clip(image, 0, 1)\n",
    "        clear_output()\n",
    "        print(pose)\n",
    "        plt.imshow(image.cpu())\n",
    "    display(*sliders.values(), button)\n",
    "button.on_click(on_button_clicked)\n",
    "on_button_clicked(None)"
   ]
  },
  {
   "cell_type": "code",
   "execution_count": null,
   "metadata": {},
   "outputs": [
    {
     "data": {
      "text/plain": [
       "tensor([[ 0.9045,  0.4252, -0.0322, -0.1298],\n",
       "        [-0.4265,  0.9019, -0.0683, -0.2753],\n",
       "        [ 0.0000,  0.0755,  0.9971,  4.0196],\n",
       "        [ 0.0000,  0.0000,  0.0000,  1.0000]])"
      ]
     },
     "execution_count": 186,
     "metadata": {},
     "output_type": "execute_result"
    }
   ],
   "source": [
    "poses[7]"
   ]
  },
  {
   "cell_type": "code",
   "execution_count": null,
   "metadata": {},
   "outputs": [
    {
     "data": {
      "text/plain": [
       "tensor([[ 1.0000,  0.0000,  0.0000,  0.0000],\n",
       "        [ 0.0000,  0.5403, -0.8415, -0.8415],\n",
       "        [ 0.0000,  0.8415,  0.5403,  0.5403],\n",
       "        [ 0.0000,  0.0000,  0.0000,  1.0000]])"
      ]
     },
     "execution_count": 137,
     "metadata": {},
     "output_type": "execute_result"
    }
   ],
   "source": [
    "getPoseFromSphericalCoords(1,0,1)"
   ]
  },
  {
   "cell_type": "code",
   "execution_count": null,
   "metadata": {
    "tags": []
   },
   "outputs": [
    {
     "name": "stderr",
     "output_type": "stream",
     "text": [
      "Clipping input data to the valid range for imshow with RGB data ([0..1] for floats or [0..255] for integers).\n"
     ]
    },
    {
     "data": {
      "image/png": "[encoded data removed]",
      "text/plain": [
       "<Figure size 640x480 with 1 Axes>"
      ]
     },
     "metadata": {},
     "output_type": "display_data"
    }
   ],
   "source": [
    "with torch.no_grad():\n",
    "     for i in range(7, 8):\n",
    "         image  = get_image(poses[7].to(device))\n",
    "         plt.imshow(image.cpu())\n",
    "         plt.show()"
   ]
  },
  {
   "cell_type": "code",
   "execution_count": null,
   "metadata": {},
   "outputs": [],
   "source": []
  }
 ],
 "metadata": {
  "kernelspec": {
   "display_name": "Python 3 (ipykernel)",
   "language": "python",
   "name": "python3"
  },
  "language_info": {
   "codemirror_mode": {
    "name": "ipython",
    "version": 3
   },
   "file_extension": ".py",
   "mimetype": "text/x-python",
   "name": "python",
   "nbconvert_exporter": "python",
   "pygments_lexer": "ipython3",
   "version": "3.11.4"
  },
  "vscode": {
   "interpreter": {
    "hash": "e7370f93d1d0cde622a1f8e1c04877d8463912d04d973331ad4851f04de6915a"
   }
  }
 },
 "nbformat": 4,
 "nbformat_minor": 4
}
