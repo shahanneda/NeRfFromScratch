{
 "cells": [
  {
   "cell_type": "code",
   "execution_count": 2,
   "metadata": {
    "tags": []
   },
   "outputs": [],
   "source": [
    "import torch\n",
    "import pandas as pd\n",
    "import numpy as np\n",
    "import matplotlib.pyplot as plt\n",
    "from mpl_toolkits.mplot3d import Axes3D \n",
    "import torch.nn as nn\n",
    "from torch import tensor\n",
    "device = torch.device(\"cuda:0\" if torch.cuda.is_available() else \"cpu\")"
   ]
  },
  {
   "cell_type": "code",
   "execution_count": 3,
   "metadata": {
    "tags": []
   },
   "outputs": [
    {
     "name": "stdout",
     "output_type": "stream",
     "text": [
      "torch.Size([106, 100, 100, 3])\n",
      "torch.Size([106, 4, 4])\n"
     ]
    }
   ],
   "source": [
    "data = np.load('tiny_nerf_data.npz')\n",
    "images = torch.tensor(data['images'])\n",
    "poses = torch.tensor(data['poses'])\n",
    "focalLength = data['focal']\n",
    "\n",
    "poses[12]\n",
    "print(images.shape)\n",
    "print(poses.shape)\n",
    "\n",
    "width = images.shape[1]\n",
    "height = images.shape[2]\n",
    "# plt.imshow(images[10])\n",
    "# for i in range(0, 100):\n",
    "#     plt.imsave(f\"im2/image{i}.png\", images[i])\n",
    "# poses[1]"
   ]
  },
  {
   "cell_type": "code",
   "execution_count": 4,
   "metadata": {
    "tags": []
   },
   "outputs": [],
   "source": [
    "\n",
    "class NeRfModel(nn.Module):\n",
    "\tdef __init__(self, num_fourier_features, layer_size=300):\n",
    "\t\tsuper().__init__()\n",
    "\t\tself.layer1 = nn.Linear(3 + 6*num_fourier_features, layer_size)\n",
    "\t\tself.layer2 = nn.Linear(layer_size, layer_size)\n",
    "\t\tself.layer3 = nn.Linear(layer_size, layer_size)\n",
    "\t\tself.layer4 = nn.Linear(layer_size, layer_size)\n",
    "\t\tself.rgb_layer = nn.Linear(layer_size, 3)\n",
    "\t\tself.radiance_layer = nn.Linear(layer_size, 1)\n",
    "\n",
    "\tdef forward(self, x):\n",
    "\t\tx = nn.functional.relu(self.layer1(x))\n",
    "\t\tx = nn.functional.relu(self.layer2(x))\n",
    "\t\tx = nn.functional.relu(self.layer3(x))\n",
    "\t\tx = nn.functional.relu(self.layer4(x))\n",
    "\n",
    "\t\trgb = torch.sigmoid(self.rgb_layer(x))\n",
    "\t\tradiance = self.radiance_layer(x)\n",
    "\t\treturn torch.cat([rgb, radiance], dim=-1)\n",
    "\n",
    "\t# model = nn.Sequential(\n",
    "\t# \t# 3 for the initial x, y,z coordiante\n",
    "\t# \t# then for each fourier feature, one for sin(x), sin(y), sin(z), \n",
    "\t# \t# and similarily 3 for cos\n",
    "\t# \tnn.ReLU(),\n",
    "\t# \tnn.Linear(300, 300),\n",
    "\t# \tnn.ReLU(),\n",
    "\t# \tnn.Linear(300, 300),\n",
    "\t# \tnn.ReLU(),\n",
    "\t# \tnn.Linear(300, 300),\n",
    "\t# \tnn.ReLU(),\n",
    "\t# \t# 3 for r, g, b and last one for radiance\n",
    "\t# \tnn.Linear(300, 4),\n",
    "\t# \tnn.Sigmoid(),\n",
    "\t# )\n",
    "\n",
    "numberOfFor = 6\n",
    "model  = NeRfModel(numberOfFor).to(device)"
   ]
  },
  {
   "cell_type": "code",
   "execution_count": 5,
   "metadata": {
    "tags": []
   },
   "outputs": [],
   "source": [
    "# %matplotlib widget\n",
    "\n",
    "%matplotlib inline"
   ]
  },
  {
   "cell_type": "code",
   "execution_count": 6,
   "metadata": {
    "tags": []
   },
   "outputs": [],
   "source": [
    "# returns a two tensors, one with shape [width, height, 3] \n",
    "# representing the direction of a ray going through each pixel and another [width, height, 3] \n",
    "# representing the starting position of that same ray (all of which are the same) since \n",
    "# all rays start out at the origin\n",
    "def getRays(width, height, focalLength, pose):\n",
    "    xCoords = torch.arange(width)\n",
    "    yCoords = torch.arange(height)\n",
    "    x, y = torch.meshgrid(xCoords, yCoords)\n",
    "    # print(x[55][49])\n",
    "    # print(y[55][49])\n",
    "\n",
    "    xShifted = (x - width*0.5)/focalLength # x coords in a [width, height] tensor\n",
    "\n",
    "    yShifted = (y - height*0.5)/focalLength # y coords in a [width, height] tensor\n",
    "\n",
    "    z = torch.ones_like(x)  # z coords in a [width, height] tensor\n",
    "\n",
    "    # match up each element of the 3 tensors (thats why using dim = 2)\n",
    "    directionVectors = torch.stack((xShifted, yShifted, z), dim=2).to(device)\n",
    "    rotationMatrix = pose[0:3, 0:3]\n",
    "    rotatedDirections = torch.matmul(directionVectors, rotationMatrix)\n",
    "\n",
    "    origin =  pose[:3, 2]\n",
    "\n",
    "    # all the rays have the same origin\n",
    "    originTensor =  torch.broadcast_to(origin, rotatedDirections.shape)\n",
    "    return rotatedDirections, originTensor\n",
    "\n",
    "def getRaysInBatch(width, height, focalLength, poses):\n",
    "    xCoords = torch.arange(width)\n",
    "    yCoords = torch.arange(height)\n",
    "    x, y = torch.meshgrid(xCoords, yCoords)\n",
    "\n",
    "    xShifted = (x - width*0.5)/focalLength # x coords in a [width, height] tensor\n",
    "\n",
    "    yShifted = (y - height*0.5)/focalLength # y coords in a [width, height] tensor\n",
    "\n",
    "    z = torch.ones_like(x)  # z coords in a [width, height] tensor\n",
    "\n",
    "    # match up each element of the 3 tensors (thats why using dim = 2)\n",
    "    directionVectors = torch.stack((xShifted, yShifted, z), dim=2).unsqueeze(0).to(device)\n",
    "    rotationMatrix = poses[:, 0:3, 0:3] # hase shape (batchSize, 3, 3)\n",
    "\n",
    "    # have a bunch of directionVectors, shaped (width, height, 3)\n",
    "    # have a bunch of rotationMatricies, shaped (batchSize, 3, 3)\n",
    "    # goal is to have a tensor t shaped (batchSize, width, height,  3)\n",
    "    # where t[i][x][y] = rotationMatrix[i]@directionVecotors[x][y]\n",
    "\n",
    "    # flatten the direction vectors to (1, width*height, 3)\n",
    "    directionVectors = directionVectors.view(width*height, 3).unsqueeze(0)\n",
    "\n",
    "    # print(directionVectors.shape)\n",
    "\n",
    "    print(directionVectors.shape)\n",
    "    print(rotationMatrix.shape)\n",
    "\n",
    "    # rotationMatrix has shape (batchSize, 3, 3)\n",
    "    rotatedDirections = torch.matmul(rotationMatrix, directionVectors)\n",
    "    print(rotatedDirections.shape)\n",
    "\n",
    "    # Goal: [5, 100, 100, 3]\n",
    "\n",
    "    origin =  poses[:, :3, 2]\n",
    "    # all the rays have the same origin\n",
    "    originTensor =  torch.broadcast_to(origin, rotatedDirections.shape)\n",
    "    return rotatedDirections, originTensor\n",
    "\n",
    "\n",
    "# dirs, pos = getRaysInBatch(width, height, focalLength, poses[0:5].to(device))\n",
    "# print(dirs.shape, pos.shape)\n",
    "# print(dirs[0][0], pos[0][0])\n"
   ]
  },
  {
   "cell_type": "code",
   "execution_count": null,
   "metadata": {},
   "outputs": [],
   "source": []
  },
  {
   "cell_type": "code",
   "execution_count": 7,
   "metadata": {
    "tags": []
   },
   "outputs": [],
   "source": [
    "import matplotlib\n",
    "\n",
    "\n",
    "%matplotlib inline\n",
    "\n",
    "# matplotlib.use('WebAgg')\n",
    "\n",
    "\n",
    "numberOfSamples = 25\n",
    "far = 5\n",
    "distanceBetweenSamples = far / numberOfSamples\n",
    "\n",
    "def get_rays_with_samples(pose):\n",
    "\tdirs, pos = getRays(width, height, focalLength, pose)\n",
    "\n",
    "\t# dirs = (width, height, 3)\n",
    "\t# t = (numberOfSamples)\n",
    "\t# goal = (width, height, numberOfSamples, 3)\n",
    "\t# where goal[x][y][i] = dirs[x][y] * t[i]\n",
    "\tt = torch.linspace(0, far, numberOfSamples).reshape(1, 1, numberOfSamples, 1).to(device)\n",
    "\n",
    "\t# dirs has shape (width, height, 3) right now (a direction for every pixel)\n",
    "\t# We want to instead have a list of numberOfSamples for each pixel, so (width, height, numberOfSamples, 3)\n",
    "\tdirs = dirs.reshape(width, height, 1, 3)\n",
    "\tpos = pos.reshape(width, height, 1, 3)\n",
    "\tz = pos + t*dirs\n",
    "\tz = z.to(device)\n",
    "\treturn z\n",
    "\n",
    "# far = 2\n",
    "def visulize_3D_rays(poseNumber):\n",
    "    fig = plt.figure(figsize=(4,4))\n",
    "    ax = fig.add_subplot(projection='3d')\n",
    "    rays = get_rays_with_samples(poseNumber)\n",
    "    with torch.no_grad():\n",
    "        rays = rays.cpu()\n",
    "        for i in range(0, width, 10):\n",
    "            for j in range(0, height, 10):\n",
    "                step = 1\n",
    "                ray = rays[i][j][::step]\n",
    "                ax.scatter(ray[:, 0], ray[:,1], ray[:, 2])\n",
    "        ax.set_xlim3d([-far, far])\n",
    "        ax.set_ylim3d([-far, far])\n",
    "        ax.set_zlim3d([-far, far])\n",
    "        ax.set_autoscale_on(False)\n",
    "\n",
    "\t# plt.savefig(f\"img/{poseNumber}.png\")\n",
    "# for i in range(0, 100):\n",
    "\t# visulize_3D_rays(i)\n",
    "# visulize_3D_rays(0)\n",
    "# visulize_3D_rays(poses[5].to(device))\n",
    "# print(poses[20])\n",
    "# get_rays_with_samples(poses[0].to(device)).shape\n"
   ]
  },
  {
   "cell_type": "code",
   "execution_count": 8,
   "metadata": {
    "tags": []
   },
   "outputs": [
    {
     "name": "stderr",
     "output_type": "stream",
     "text": [
      "/opt/conda/lib/python3.10/site-packages/torch/functional.py:504: UserWarning: torch.meshgrid: in an upcoming release, it will be required to pass the indexing argument. (Triggered internally at ../aten/src/ATen/native/TensorShape.cpp:3483.)\n",
      "  return _VF.meshgrid(tensors, **kwargs)  # type: ignore[attr-defined]\n"
     ]
    }
   ],
   "source": [
    "import gc\n",
    "import math\n",
    "def get_model_at_each_sample_point(rays):\n",
    "    #rays is (width, height, numberOfSampels, 3), we want to turn the 3 into 15 by appling foruir feature vectors\n",
    "    raysBackup = torch.clone(rays)\n",
    "    rays = rays.reshape(width, height, numberOfSamples, 1, 3, 1).expand(width, height, numberOfSamples, 2, 3, 1)\n",
    "    twos = torch.tensor(2).repeat(width, height, numberOfSamples, 2, 3, numberOfFor) # 2 since one for sin one for cos\n",
    "    twos[:, :, :, :, 0] = 1\n",
    "    twos = torch.cumprod(twos, dim=4).to(device)\n",
    "\n",
    "    # Twos is a (3, numberOfFor+, 21) shaped where each row is [1, 2, 4, 8, ...]\n",
    "    encoding = rays*math.pi*twos\n",
    "    encoding[:, :, :, 0] = torch.sin(encoding[:, :, :, 0])\n",
    "    encoding[:, :, :, 1] = torch.cos(encoding[:, :, :, 1])\n",
    "    encoding = torch.flatten(encoding, start_dim=3, end_dim=5)\n",
    "\n",
    "    # add non fourer as well (rays backup is just the normal xyz coords)\n",
    "    encoding = torch.concat((raysBackup, encoding), dim=3)\n",
    "\n",
    "    return model(encoding)\n",
    "    \n",
    "\n",
    "def get_image(pose):\n",
    "  # gc.collect()\n",
    "  # torch.cuda.empty_cache()\n",
    "  rays = get_rays_with_samples(pose)\n",
    "  return get_image_with_rays(rays)\n",
    "\n",
    "def get_image_with_rays(rays):\n",
    "  # current (width, height, numberOfSamples, 4)\n",
    "  out = get_model_at_each_sample_point(rays)\n",
    "  # model_out = (width, height, numberOfSamples, 4), where r is rgb + d\n",
    "  deltaI = tensor(distanceBetweenSamples)\n",
    "\n",
    "  # Goes from out = (width,height, numberOfSamples, 4) to C = (width, height, 3)\n",
    "\n",
    "  # The first two dimenstions are width and height\n",
    "  Ti = torch.cumprod(torch.exp(-out[:, : , :, 3]*deltaI), dim = 2)\n",
    "  Ti = Ti.reshape(width, height, numberOfSamples, 1)\n",
    "\n",
    "  aboservedAmounts = (1- torch.exp(-out[:, :, :, 3]*deltaI)).reshape((width, height, numberOfSamples, 1))\n",
    "  colorI = out[:, :, :, 0:3]\n",
    "\n",
    "  # Sum along the ray (the first two dimenensions are the width and height)\n",
    "  C = torch.sum(Ti*aboservedAmounts * colorI, dim = 2)\n",
    "  return C\n",
    "\n",
    "# get_image()\n",
    "def f():\n",
    "  with torch.no_grad():\n",
    "    get_image(poses[0].to(device))\n",
    "f()"
   ]
  },
  {
   "cell_type": "code",
   "execution_count": 9,
   "metadata": {
    "tags": []
   },
   "outputs": [
    {
     "name": "stderr",
     "output_type": "stream",
     "text": [
      "Clipping input data to the valid range for imshow with RGB data ([0..1] for floats or [0..255] for integers).\n"
     ]
    },
    {
     "data": {
      "image/png": "[encoded data removed]",
      "text/plain": [
       "<Figure size 640x480 with 1 Axes>"
      ]
     },
     "metadata": {},
     "output_type": "display_data"
    }
   ],
   "source": [
    "with torch.no_grad():\n",
    "        pose = poses[0].to(device)\n",
    "        im = get_image(pose).cpu()\n",
    "        plt.imshow(im)"
   ]
  },
  {
   "cell_type": "code",
   "execution_count": 10,
   "metadata": {},
   "outputs": [],
   "source": [
    "from torch.utils.data import Dataset, DataLoader\n",
    "\n",
    "class NerfDataSet(Dataset):\n",
    "\tdef __init__(self, poses, images):\n",
    "\t\tassert(len(poses) == len(images))\n",
    "\n",
    "\t\tself.poses = poses\n",
    "\t\tself.images = images\n",
    "\n",
    "\tdef __len__(self) -> int:\n",
    "\t\treturn len(self.poses)\n",
    "\n",
    "\tdef __getitem__(self, index):\n",
    "\t\treturn self.poses[index], self.images[index]\n",
    "\n",
    "dataSet = NerfDataSet(poses, images)\n",
    "dataLoader = DataLoader(dataset=dataSet, batch_size=4, shuffle=True )"
   ]
  },
  {
   "cell_type": "code",
   "execution_count": 11,
   "metadata": {
    "tags": []
   },
   "outputs": [
    {
     "name": "stderr",
     "output_type": "stream",
     "text": [
      "  0%|          | 0/10000 [00:00<?, ?it/s]"
     ]
    },
    {
     "name": "stderr",
     "output_type": "stream",
     "text": [
      "  0%|          | 0/10000 [00:04<?, ?it/s]\n"
     ]
    },
    {
     "ename": "KeyboardInterrupt",
     "evalue": "",
     "output_type": "error",
     "traceback": [
      "\u001b[0;31m---------------------------------------------------------------------------\u001b[0m",
      "\u001b[0;31mKeyboardInterrupt\u001b[0m                         Traceback (most recent call last)",
      "Cell \u001b[0;32mIn[11], line 35\u001b[0m\n\u001b[1;32m     32\u001b[0m torch\u001b[39m.\u001b[39mcuda\u001b[39m.\u001b[39mempty_cache()\n\u001b[1;32m     34\u001b[0m \u001b[39mfor\u001b[39;00m (pose_batch, image_batch) \u001b[39min\u001b[39;00m dataLoader:\n\u001b[0;32m---> 35\u001b[0m     pose_batch \u001b[39m=\u001b[39m pose_batch\u001b[39m.\u001b[39;49mto(device)\n\u001b[1;32m     36\u001b[0m     image_batch \u001b[39m=\u001b[39m image_batch\u001b[39m.\u001b[39mto(device)\n\u001b[1;32m     37\u001b[0m     \u001b[39mfor\u001b[39;00m (pose, image) \u001b[39min\u001b[39;00m \u001b[39mzip\u001b[39m(pose_batch, image_batch):\n",
      "\u001b[0;31mKeyboardInterrupt\u001b[0m: "
     ]
    },
    {
     "data": {
      "image/png": "[encoded data removed]",
      "text/plain": [
       "<Figure size 640x480 with 1 Axes>"
      ]
     },
     "metadata": {},
     "output_type": "display_data"
    }
   ],
   "source": [
    "epochs = 10000\n",
    "from tqdm import tqdm\n",
    "from IPython.display import clear_output\n",
    "def loss_fn(output, target):\n",
    "\t\tloss = torch.mean((output - target)**2)\n",
    "\t\treturn loss\n",
    "\n",
    "optimizer = torch.optim.Adam(model.parameters(), lr=0.001)\n",
    "\n",
    "pbar = tqdm(range(epochs))\n",
    "# pbar = range(epochs)\n",
    "\n",
    "image_display = None\n",
    "\n",
    "fig = plt.figure()\n",
    "ax = fig.gca()\n",
    "i = 0\n",
    "loss = 0\n",
    "\n",
    "\n",
    "pose = poses[3]\n",
    "# image = images[3]\n",
    "# pose = pose.to(device)\n",
    "# rays = get_rays_with_samples(pose)\n",
    "\n",
    "torch.cuda.empty_cache()\n",
    "poseToRays = {}\n",
    "torch.cuda.empty_cache()\n",
    "\n",
    "for epoch in pbar: \n",
    "    epoch_loss = 0\n",
    "    torch.cuda.empty_cache()\n",
    "\n",
    "    for (pose_batch, image_batch) in dataLoader:\n",
    "        pose_batch = pose_batch.to(device)\n",
    "        image_batch = image_batch.to(device)\n",
    "        for (pose, image) in zip(pose_batch, image_batch):\n",
    "            i += 1\n",
    "            # if pose not in poseToRays:\n",
    "            #     pose = pose.to(device)\n",
    "                # poseToRays[pose] = get_rays_with_samples(pose)\n",
    "\n",
    "            # rays = poseToRays[pose]\n",
    "            rays = get_rays_with_samples(pose)\n",
    "            pred_image = get_image_with_rays(rays)\n",
    "\n",
    "            image = image.to(device)\n",
    "            loss += loss_fn(pred_image, image)\n",
    "            epoch_loss += loss.item()\n",
    "\n",
    "        optimizer.zero_grad()\n",
    "        loss.backward()\n",
    "        optimizer.step()\n",
    "        # pbar.set_description( f\"{i}: Loss is {loss}\")\n",
    "        loss = 0\n",
    "\n",
    "        if(i % 200 == 0):\n",
    "        # if(False):\n",
    "            # print(\"displaying\")\n",
    "            with torch.no_grad():\n",
    "                clear_output()\n",
    "                plt.close()\n",
    "\n",
    "                f, axarr = plt.subplots(1,2)\n",
    "                axarr[0].imshow(pred_image.cpu())\n",
    "                axarr[1].imshow(image.cpu())\n",
    "                plt.show()\n",
    "\n",
    "    pbar.set_description(f\"Epoch [{epoch+1}/{epochs}], Loss: {epoch_loss}\")\n",
    "    torch.save(model.state_dict(), \"./fixedModel.pkl\")\n",
    "    \n",
    "    if( i >= 2000):\n",
    "        i = 0\n",
    "        \n",
    "\n"
   ]
  },
  {
   "cell_type": "code",
   "execution_count": null,
   "metadata": {},
   "outputs": [],
   "source": [
    "# torch.save(model.state_dict(), \"./basic_model.pkl\")"
   ]
  },
  {
   "cell_type": "code",
   "execution_count": 13,
   "metadata": {},
   "outputs": [
    {
     "data": {
      "text/plain": [
       "<All keys matched successfully>"
      ]
     },
     "execution_count": 13,
     "metadata": {},
     "output_type": "execute_result"
    }
   ],
   "source": [
    "model.load_state_dict(torch.load(\"./fixedModel3.pkl\"))\n"
   ]
  },
  {
   "cell_type": "code",
   "execution_count": null,
   "metadata": {},
   "outputs": [
    {
     "name": "stdout",
     "output_type": "stream",
     "text": [
      "tensor(4.0305)\n"
     ]
    }
   ],
   "source": [
    "print(torch.max(poses[:, :, 3]))"
   ]
  },
  {
   "cell_type": "code",
   "execution_count": 24,
   "metadata": {
    "tags": []
   },
   "outputs": [
    {
     "name": "stderr",
     "output_type": "stream",
     "text": [
      "Clipping input data to the valid range for imshow with RGB data ([0..1] for floats or [0..255] for integers).\n"
     ]
    },
    {
     "data": {
      "image/png": "[encoded data removed]",
      "text/plain": [
       "<Figure size 640x480 with 1 Axes>"
      ]
     },
     "metadata": {},
     "output_type": "display_data"
    }
   ],
   "source": [
    "with torch.no_grad():\n",
    "\t# for i in range(0, 15):\n",
    "\timage  = get_image(poses[10].to(device))\n",
    "\tplt.imshow(image.cpu())\n",
    "\tplt.show()"
   ]
  },
  {
   "cell_type": "code",
   "execution_count": null,
   "metadata": {},
   "outputs": [],
   "source": []
  }
 ],
 "metadata": {
  "kernelspec": {
   "display_name": "Python 3 (ipykernel)",
   "language": "python",
   "name": "python3"
  },
  "language_info": {
   "codemirror_mode": {
    "name": "ipython",
    "version": 3
   },
   "file_extension": ".py",
   "mimetype": "text/x-python",
   "name": "python",
   "nbconvert_exporter": "python",
   "pygments_lexer": "ipython3",
   "version": "3.10.9"
  },
  "vscode": {
   "interpreter": {
    "hash": "e7370f93d1d0cde622a1f8e1c04877d8463912d04d973331ad4851f04de6915a"
   }
  }
 },
 "nbformat": 4,
 "nbformat_minor": 4
}
